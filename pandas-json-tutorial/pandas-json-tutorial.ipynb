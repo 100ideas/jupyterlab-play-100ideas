{
 "cells": [
  {
   "cell_type": "markdown",
   "metadata": {},
   "source": [
    "# Python and JSON: Working with large datasets using Pandas\n",
    "\n",
    "https://www.dataquest.io/blog/python-json-tutorial/\n",
    "\n",
    "dealing with \"unstructured\" json data using pandas dataframes\n",
    "\n",
    "dataset: https://catalog.data.gov/dataset/traffic-violations-56dda\n",
    "\n",
    "interesting: \"Metadata source\": https://catalog.data.gov/harvest/object/c9ddd732-04c6-43e7-8896-fc4a060ef093"
   ]
  },
  {
   "cell_type": "code",
   "execution_count": 1,
   "metadata": {},
   "outputs": [
    {
     "data": {
      "text/plain": [
       "{'@type': 'dcat:Dataset',\n",
       " 'accessLevel': 'public',\n",
       " 'contactPoint': {'@type': 'vcard:Contact', 'fn': 'MCG ESB Service'},\n",
       " 'description': 'This dataset contains traffic violation information from all electronic traffic violations issued in the County.  Any information that can be used to uniquely identify the vehicle, the vehicle owner or the officer issuing the violation will not be published.\\r\\n\\r\\nUpdate Frequency:  Daily',\n",
       " 'distribution': [{'@type': 'dcat:Distribution',\n",
       "   'downloadURL': 'https://data.montgomerycountymd.gov/api/views/4mse-ku6q/rows.csv?accessType=DOWNLOAD',\n",
       "   'mediaType': 'text/csv'},\n",
       "  {'@type': 'dcat:Distribution',\n",
       "   'downloadURL': 'https://data.montgomerycountymd.gov/api/views/4mse-ku6q/rows.rdf?accessType=DOWNLOAD',\n",
       "   'mediaType': 'application/rdf+xml'},\n",
       "  {'@type': 'dcat:Distribution',\n",
       "   'downloadURL': 'https://data.montgomerycountymd.gov/api/views/4mse-ku6q/rows.json?accessType=DOWNLOAD',\n",
       "   'mediaType': 'application/json'},\n",
       "  {'@type': 'dcat:Distribution',\n",
       "   'downloadURL': 'https://data.montgomerycountymd.gov/api/views/4mse-ku6q/rows.xml?accessType=DOWNLOAD',\n",
       "   'mediaType': 'application/xml'}],\n",
       " 'identifier': 'https://data.montgomerycountymd.gov/api/views/4mse-ku6q',\n",
       " 'issued': '2014-09-18',\n",
       " 'keyword': ['traffic', 'stop', 'violations', 'electronic issued.'],\n",
       " 'landingPage': 'https://data.montgomerycountymd.gov/d/4mse-ku6q',\n",
       " 'modified': '2018-03-13',\n",
       " 'publisher': {'@type': 'org:Organization',\n",
       "  'name': 'data.montgomerycountymd.gov'},\n",
       " 'theme': ['Public Safety'],\n",
       " 'title': 'Traffic Violations'}"
      ]
     },
     "execution_count": 1,
     "metadata": {},
     "output_type": "execute_result"
    }
   ],
   "source": [
    "{\"@type\": \"dcat:Dataset\", \"accessLevel\": \"public\", \"contactPoint\": {\"@type\": \"vcard:Contact\", \"fn\": \"MCG ESB Service\"}, \"description\": \"This dataset contains traffic violation information from all electronic traffic violations issued in the County.  Any information that can be used to uniquely identify the vehicle, the vehicle owner or the officer issuing the violation will not be published.\\r\\n\\r\\nUpdate Frequency:  Daily\", \"distribution\": [{\"@type\": \"dcat:Distribution\", \"downloadURL\": \"https://data.montgomerycountymd.gov/api/views/4mse-ku6q/rows.csv?accessType=DOWNLOAD\", \"mediaType\": \"text/csv\"}, {\"@type\": \"dcat:Distribution\", \"downloadURL\": \"https://data.montgomerycountymd.gov/api/views/4mse-ku6q/rows.rdf?accessType=DOWNLOAD\", \"mediaType\": \"application/rdf+xml\"}, {\"@type\": \"dcat:Distribution\", \"downloadURL\": \"https://data.montgomerycountymd.gov/api/views/4mse-ku6q/rows.json?accessType=DOWNLOAD\", \"mediaType\": \"application/json\"}, {\"@type\": \"dcat:Distribution\", \"downloadURL\": \"https://data.montgomerycountymd.gov/api/views/4mse-ku6q/rows.xml?accessType=DOWNLOAD\", \"mediaType\": \"application/xml\"}], \"identifier\": \"https://data.montgomerycountymd.gov/api/views/4mse-ku6q\", \"issued\": \"2014-09-18\", \"keyword\": [\"traffic\", \"stop\", \"violations\", \"electronic issued.\"], \"landingPage\": \"https://data.montgomerycountymd.gov/d/4mse-ku6q\", \"modified\": \"2018-03-13\", \"publisher\": {\"@type\": \"org:Organization\", \"name\": \"data.montgomerycountymd.gov\"}, \"theme\": [\"Public Safety\"], \"title\": \"Traffic Violations\"}"
   ]
  },
  {
   "cell_type": "code",
   "execution_count": 1,
   "metadata": {},
   "outputs": [
    {
     "name": "stdout",
     "output_type": "stream",
     "text": [
      "/home/jovyan/work/pandas-json-tutorial\n"
     ]
    }
   ],
   "source": [
    "%cd ~/work/pandas-json-tutorial"
   ]
  },
  {
   "cell_type": "code",
   "execution_count": 2,
   "metadata": {},
   "outputs": [
    {
     "name": "stdout",
     "output_type": "stream",
     "text": [
      "/home/jovyan/work/pandas-json-tutorial\n",
      "md_traffic.json\n",
      "pandas-json-tutorial.ipynb\n"
     ]
    }
   ],
   "source": [
    "%%bash\n",
    "pwd\n",
    "ls"
   ]
  },
  {
   "cell_type": "code",
   "execution_count": 3,
   "metadata": {},
   "outputs": [
    {
     "name": "stdout",
     "output_type": "stream",
     "text": [
      "{\n",
      "  \"meta\" : {\n",
      "    \"view\" : {\n",
      "      \"id\" : \"4mse-ku6q\",\n",
      "      \"name\" : \"Traffic Violations\",\n",
      "      \"averageRating\" : 0,\n",
      "      \"category\" : \"Public Safety\",\n",
      "      \"createdAt\" : 1403103517,\n",
      "      \"description\" : \"This dataset contains traffic violation information from all electronic traffic violations issued in the County.  Any information that can be used to uniquely identify the vehicle, the vehicle owner or the officer issuing the violation will not be published.\\r\\n\\r\\nUpdate Frequency:  Daily\",\n",
      "      \"displayType\" : \"table\",\n"
     ]
    }
   ],
   "source": [
    "%%bash\n",
    "head md_traffic.json"
   ]
  },
  {
   "cell_type": "markdown",
   "metadata": {},
   "source": [
    "meta is a top level key, and is indented two spaces. We can get all of the top level keys by using the grep command to print any lines that have two leading spaces:"
   ]
  },
  {
   "cell_type": "code",
   "execution_count": 23,
   "metadata": {},
   "outputs": [
    {
     "name": "stdout",
     "output_type": "stream",
     "text": [
      "  \"meta\" : {\n",
      "  \"data\" : [ [ 2118167, \"EE8BC302-660F-48C4-B422-17427ECE821F\", 2118167, 1482239054, \"498050\", 1482239054, \"498050\", null, \"2013-09-24T00:00:00\", \"17:11:00\", \"MCP\", \"3rd district, Silver Spring\", \"DRIVING VEHICLE ON HIGHWAY WITH SUSPENDED REGISTRATION\", \"8804 FLOWER AVE\", null, null, \"No\", \"No\", \"No\", \"No\", \"No\", \"No\", \"No\", \"No\", \"No\", \"No\", \"MD\", \"02 - Automobile\", \"2008\", \"FORD\", \"4S\", \"BLACK\", \"Citation\", \"13-401(h)\", \"Transportation Article\", \"No\", \"BLACK\", \"M\", \"TAKOMA PARK\", \"MD\", \"MD\", \"A - Marked Patrol\", [ null, null, null, null, null ] ]\n"
     ]
    }
   ],
   "source": [
    "%%bash\n",
    "grep -E '^ {2}\"' md_traffic.json"
   ]
  },
  {
   "cell_type": "markdown",
   "metadata": {},
   "source": [
    "This shows us that meta and data are top level keys in the md_traffic.json data. A list of lists appears to be associated with data, and this likely contains each record in our traffic violations dataset. Each inner list is a record, and the first record appears in the output from the grep command. This is very similar to the kind of structured data we're used to working with when we operate on CSV files or SQL tables. Here's a truncated view of how the data might look:\n",
    "\n",
    "```json\n",
    "[\n",
    "    [1889194, \"92AD0076-5308-45D0-BDE3-6A3A55AD9A04\", 1889194, 1455876689, \"498050\"],\n",
    "    [1889194, \"92AD0076-5308-45D0-BDE3-6A3A55AD9A04\", 1889194, 1455876689, \"498050\"],\n",
    "    ...\n",
    "]\n",
    "```\n",
    "\n",
    "This looks a lot like the rows and columns that we're used to working with. We're just missing the headers that tell us what each column means. We may be able to find this information under the `meta` key.\n",
    "\n",
    "`meta` usually refers to information about the data itself. Let's dig a little more into `meta` and see what information is contained there. From the head command, we know that there are at least 3 levels of keys, with `meta` containing a key `view`, which contains the keys id`,` `name`, `averageRating` and others. We can print out the full key structure of the JSON file by using grep to print out any lines with 2-6 leading spaces:"
   ]
  },
  {
   "cell_type": "code",
   "execution_count": 24,
   "metadata": {},
   "outputs": [
    {
     "name": "stdout",
     "output_type": "stream",
     "text": [
      "  \"meta\" : {\n",
      "    \"view\" : {\n",
      "      \"id\" : \"4mse-ku6q\",\n",
      "      \"name\" : \"Traffic Violations\",\n",
      "      \"averageRating\" : 0,\n",
      "      \"category\" : \"Public Safety\",\n",
      "      \"createdAt\" : 1403103517,\n",
      "      \"description\" : \"This dataset contains traffic violation information from all electronic traffic violations issued in the County.  Any information that can be used to uniquely identify the vehicle, the vehicle owner or the officer issuing the violation will not be published.\\r\\n\\r\\nUpdate Frequency:  Daily\",\n",
      "      \"displayType\" : \"table\",\n",
      "      \"downloadCount\" : 85984,\n",
      "      \"hideFromCatalog\" : false,\n",
      "      \"hideFromDataJson\" : false,\n",
      "      \"iconUrl\" : \"fileId:r41tDc239M1FL75LFwXFKzFCWqr8mzMeMTYXiA24USM\",\n",
      "      \"indexUpdatedAt\" : 1522057215,\n",
      "      \"newBackend\" : false,\n",
      "      \"numberOfComments\" : 0,\n",
      "      \"oid\" : 8890705,\n",
      "      \"provenance\" : \"official\",\n",
      "      \"publicationAppendEnabled\" : false,\n",
      "      \"publicationDate\" : 1411040702,\n",
      "      \"publicationGroup\" : 1620779,\n",
      "      \"publicationStage\" : \"published\",\n",
      "      \"rowClass\" : \"\",\n",
      "      \"rowsUpdatedAt\" : 1522056581,\n",
      "      \"rowsUpdatedBy\" : \"ajn4-zy65\",\n",
      "      \"tableId\" : 1722160,\n",
      "      \"totalTimesRated\" : 0,\n",
      "      \"viewCount\" : 27667,\n",
      "      \"viewLastModified\" : 1494270268,\n",
      "      \"viewType\" : \"tabular\",\n",
      "      \"columns\" : [ {\n",
      "      \"disabledFeatureFlags\" : [ \"allow_comments\" ],\n",
      "      \"grants\" : [ {\n",
      "      \"metadata\" : {\n",
      "      \"owner\" : {\n",
      "      \"query\" : {\n",
      "      \"rights\" : [ \"read\" ],\n",
      "      \"tableAuthor\" : {\n",
      "      \"tags\" : [ \"traffic\", \"stop\", \"violations\", \"electronic issued.\" ],\n",
      "      \"flags\" : [ \"default\", \"restorable\", \"restorePossibleForType\" ]\n",
      "  \"data\" : [ [ 2118167, \"EE8BC302-660F-48C4-B422-17427ECE821F\", 2118167, 1482239054, \"498050\", 1482239054, \"498050\", null, \"2013-09-24T00:00:00\", \"17:11:00\", \"MCP\", \"3rd district, Silver Spring\", \"DRIVING VEHICLE ON HIGHWAY WITH SUSPENDED REGISTRATION\", \"8804 FLOWER AVE\", null, null, \"No\", \"No\", \"No\", \"No\", \"No\", \"No\", \"No\", \"No\", \"No\", \"No\", \"MD\", \"02 - Automobile\", \"2008\", \"FORD\", \"4S\", \"BLACK\", \"Citation\", \"13-401(h)\", \"Transportation Article\", \"No\", \"BLACK\", \"M\", \"TAKOMA PARK\", \"MD\", \"MD\", \"A - Marked Patrol\", [ null, null, null, null, null ] ]\n"
     ]
    }
   ],
   "source": [
    "%%bash\n",
    "\n",
    "grep -E '^ {2,6}\"' md_traffic.json"
   ]
  },
  {
   "cell_type": "markdown",
   "metadata": {},
   "source": [
    "This shows us the full key structure associated with md_traffic.json, and tell us which parts of the JSON file are relevant for us. In this case, the columns key looks interesting, as it potentially contains information on the columns in the list of lists in the data key.\n",
    "\n",
    "### Extracting information on the columns\n",
    "\n",
    "Now that we know which key contains information on the columns, we need to read that information in. Because we're assuming that the JSON file won't fit in memory, we can't just directly read it in using the [json](https://docs.python.org/3/library/json.html) library. Instead, we'll need to iteratively read it in in a memory-efficient way.\n",
    "\n",
    "We can accomplish this using the [ijson](https://pypi.python.org/pypi/ijson/) package. ijson will iteratively parse the json file instead of reading it all in at once. This is slower than directly reading the whole file in, but it enables us to work with large files that can't fit in memory. To use ijson, we specify a file we want to extract data from, then we specify a key path to extract:"
   ]
  },
  {
   "cell_type": "code",
   "execution_count": 4,
   "metadata": {},
   "outputs": [],
   "source": [
    "# pip install ijson...\n",
    "import ijson\n",
    "\n",
    "filename = \"md_traffic.json\"\n",
    "with open(filename, 'r') as f:\n",
    "    objects = ijson.items(f, 'meta.view.columns.item')\n",
    "#     columns = list(objects)  # takes way too long, don't want to put it all in memory"
   ]
  },
  {
   "cell_type": "markdown",
   "metadata": {},
   "source": [
    "In the above code, we open the `md_traffic.json` file, then we use the items method in ijson to extract a list from the file. We specify the path to the list using the `meta.view.columns` notation. Recall that meta is a top level key, which contains view inside, which contains columns inside it. We then specify meta.view.columns.item to indicate that we should extract each individual item in the meta.view.columns list. The `items` function will return a generator, so we use the list method to turn the [generator](https://wiki.python.org/moin/Generators) into a Python list. We can print out the first item in the list:"
   ]
  },
  {
   "cell_type": "code",
   "execution_count": 5,
   "metadata": {},
   "outputs": [],
   "source": [
    "# print(columns[0])\n",
    "# column_names = [col[\"fieldName\"] for col in columns]\n",
    "# column_names\n",
    "\n",
    "column_names = [':sid',\n",
    " ':id',\n",
    " ':position',\n",
    " ':created_at',\n",
    " ':created_meta',\n",
    " ':updated_at',\n",
    " ':updated_meta',\n",
    " ':meta',\n",
    " 'date_of_stop',\n",
    " 'time_of_stop',\n",
    " 'agency',\n",
    " 'subagency',\n",
    " 'description',\n",
    " 'location',\n",
    " 'latitude',\n",
    " 'longitude',\n",
    " 'accident',\n",
    " 'belts',\n",
    " 'personal_injury',\n",
    " 'property_damage',\n",
    " 'fatal',\n",
    " 'commercial_license',\n",
    " 'hazmat',\n",
    " 'commercial_vehicle',\n",
    " 'alcohol',\n",
    " 'work_zone',\n",
    " 'state',\n",
    " 'vehicle_type',\n",
    " 'year',\n",
    " 'make',\n",
    " 'model',\n",
    " 'color',\n",
    " 'violation_type',\n",
    " 'charge',\n",
    " 'article',\n",
    " 'contributed_to_accident',\n",
    " 'race',\n",
    " 'gender',\n",
    " 'driver_city',\n",
    " 'driver_state',\n",
    " 'dl_state',\n",
    " 'arrest_type',\n",
    " 'geolocation']"
   ]
  },
  {
   "cell_type": "markdown",
   "metadata": {},
   "source": [
    "From the above output, it looks like each item in columns is a dictionary that contains information about each column. In order to get our header, it looks like fieldName is the relevant key to extract. To get our column names, we just have to extract the fieldName key from each item in columns:\n",
    "```\n",
    "[':sid',\n",
    " ':id',\n",
    " ':position',\n",
    " ':created_at',\n",
    " ':created_meta',\n",
    " ':updated_at',\n",
    " ':updated_meta',\n",
    " ':meta',\n",
    " 'date_of_stop',\n",
    " 'time_of_stop',\n",
    " 'agency',\n",
    " 'subagency',\n",
    " 'description',\n",
    " 'location',\n",
    " 'latitude',\n",
    " 'longitude',\n",
    " 'accident',\n",
    " 'belts',\n",
    " 'personal_injury',\n",
    " 'property_damage',\n",
    " 'fatal',\n",
    " 'commercial_license',\n",
    " 'hazmat',\n",
    " 'commercial_vehicle',\n",
    " 'alcohol',\n",
    " 'work_zone',\n",
    " 'state',\n",
    " 'vehicle_type',\n",
    " 'year',\n",
    " 'make',\n",
    " 'model',\n",
    " 'color',\n",
    " 'violation_type',\n",
    " 'charge',\n",
    " 'article',\n",
    " 'contributed_to_accident',\n",
    " 'race',\n",
    " 'gender',\n",
    " 'driver_city',\n",
    " 'driver_state',\n",
    " 'dl_state',\n",
    " 'arrest_type',\n",
    " 'geolocation']\n",
    "```"
   ]
  },
  {
   "cell_type": "markdown",
   "metadata": {},
   "source": [
    "### Extracting t\n",
    "\n",
    "You may recall that the data is locked away in a list of lists inside the data key. We'll need to read this data into memory to manipulate it. Fortunately, we can use the column names we just extracted to only grab the columns that are relevant. This will save a ton of space. If the dataset was larger, you could iteratively process batches of rows. So read in the first 10000000 rows, do some processing, then the next 10000000, and so on. In this case, we can define the columns we care about, and again use ijson to iteratively process the JSON file:"
   ]
  },
  {
   "cell_type": "code",
   "execution_count": 6,
   "metadata": {},
   "outputs": [],
   "source": [
    "good_columns = [\n",
    "    \"date_of_stop\", \n",
    "    \"time_of_stop\", \n",
    "    \"agency\", \n",
    "    \"subagency\",\n",
    "    \"description\",\n",
    "    \"location\", \n",
    "    \"latitude\", \n",
    "    \"longitude\", \n",
    "    \"vehicle_type\", \n",
    "    \"year\", \n",
    "    \"make\", \n",
    "    \"model\", \n",
    "    \"color\", \n",
    "    \"violation_type\",\n",
    "    \"race\", \n",
    "    \"gender\", \n",
    "    \"driver_state\", \n",
    "    \"driver_city\", \n",
    "    \"dl_state\",\n",
    "    \"arrest_type\"\n",
    "]\n",
    "\n",
    "data = []\n",
    "with open(filename, 'r') as f:\n",
    "    objects = ijson.items(f, 'data.item')\n",
    "    for row in objects:\n",
    "        selected_row = []\n",
    "        for item in good_columns:\n",
    "            selected_row.append(row[column_names.index(item)])\n",
    "        data.append(selected_row)"
   ]
  },
  {
   "cell_type": "code",
   "execution_count": 8,
   "metadata": {},
   "outputs": [
    {
     "data": {
      "text/plain": [
       "['2013-09-24T00:00:00',\n",
       " '17:11:00',\n",
       " 'MCP',\n",
       " '3rd district, Silver Spring',\n",
       " 'DRIVING VEHICLE ON HIGHWAY WITH SUSPENDED REGISTRATION',\n",
       " '8804 FLOWER AVE',\n",
       " None,\n",
       " None,\n",
       " '02 - Automobile',\n",
       " '2008',\n",
       " 'FORD',\n",
       " '4S',\n",
       " 'BLACK',\n",
       " 'Citation',\n",
       " 'BLACK',\n",
       " 'M',\n",
       " 'MD',\n",
       " 'TAKOMA PARK',\n",
       " 'MD',\n",
       " 'A - Marked Patrol']"
      ]
     },
     "execution_count": 8,
     "metadata": {},
     "output_type": "execute_result"
    }
   ],
   "source": [
    "data[0]\n"
   ]
  },
  {
   "cell_type": "code",
   "execution_count": 9,
   "metadata": {},
   "outputs": [],
   "source": [
    "import pandas as pd\n",
    "\n",
    "stops = pd.DataFrame(data, columns=good_columns)"
   ]
  },
  {
   "cell_type": "code",
   "execution_count": 10,
   "metadata": {},
   "outputs": [
    {
     "data": {
      "text/plain": [
       "BLACK          254219\n",
       "SILVER         232678\n",
       "WHITE          193528\n",
       "GRAY           138189\n",
       "RED            100019\n",
       "BLUE            93131\n",
       "GREEN           48875\n",
       "GOLD            40478\n",
       "TAN             26680\n",
       "BLUE, DARK      26601\n",
       "MAROON          22061\n",
       "BLUE, LIGHT     16927\n",
       "BEIGE           14807\n",
       "GREEN, DK       14280\n",
       "N/A             14189\n",
       "GREEN, LGT       7247\n",
       "BROWN            5921\n",
       "YELLOW           4830\n",
       "ORANGE           4456\n",
       "BRONZE           2918\n",
       "PURPLE           2478\n",
       "MULTICOLOR       1018\n",
       "CREAM             831\n",
       "COPPER            410\n",
       "PINK              184\n",
       "CHROME             27\n",
       "CAMOUFLAGE         23\n",
       "Name: color, dtype: int64"
      ]
     },
     "execution_count": 10,
     "metadata": {},
     "output_type": "execute_result"
    }
   ],
   "source": [
    "stops[\"color\"].value_counts()"
   ]
  },
  {
   "cell_type": "code",
   "execution_count": 11,
   "metadata": {},
   "outputs": [
    {
     "data": {
      "text/plain": [
       "A - Marked Patrol                         1042092\n",
       "Q - Marked Laser                           122460\n",
       "B - Unmarked Patrol                         40584\n",
       "S - License Plate Recognition               13340\n",
       "O - Foot Patrol                             12604\n",
       "L - Motorcycle                              11250\n",
       "E - Marked Stationary Radar                  7923\n",
       "G - Marked Moving Radar (Stationary)         5808\n",
       "R - Unmarked Laser                           5587\n",
       "I - Marked Moving Radar (Moving)             1962\n",
       "M - Marked (Off-Duty)                        1845\n",
       "F - Unmarked Stationary Radar                 815\n",
       "H - Unmarked Moving Radar (Stationary)        803\n",
       "C - Marked VASCAR                             448\n",
       "J - Unmarked Moving Radar (Moving)            428\n",
       "P - Mounted Patrol                            315\n",
       "D - Unmarked VASCAR                           254\n",
       "N - Unmarked (Off-Duty)                       178\n",
       "K - Aircraft Assist                            55\n",
       "Name: arrest_type, dtype: int64"
      ]
     },
     "execution_count": 11,
     "metadata": {},
     "output_type": "execute_result"
    }
   ],
   "source": [
    "stops[\"arrest_type\"].value_counts()"
   ]
  },
  {
   "cell_type": "code",
   "execution_count": 13,
   "metadata": {},
   "outputs": [],
   "source": [
    "import numpy as np\n",
    "\n",
    "def parse_float(x):\n",
    "    try:\n",
    "        x = float(x)\n",
    "    except Exception:\n",
    "        x = 0\n",
    "    return x\n",
    "stops[\"longitude\"] = stops[\"longitude\"].apply(parse_float)\n",
    "stops[\"latitude\"] = stops[\"latitude\"].apply(parse_float)"
   ]
  },
  {
   "cell_type": "code",
   "execution_count": 14,
   "metadata": {},
   "outputs": [],
   "source": [
    "import datetime\n",
    "def parse_full_date(row):\n",
    "    date = datetime.datetime.strptime(row[\"date_of_stop\"], \"%Y-%m-%dT%H:%M:%S\")\n",
    "    time = row[\"time_of_stop\"].split(\":\")\n",
    "    date = date.replace(hour=int(time[0]), minute = int(time[1]), second = int(time[2]))\n",
    "    return date\n",
    "\n",
    "stops[\"date\"] = stops.apply(parse_full_date, axis=1)"
   ]
  },
  {
   "cell_type": "code",
   "execution_count": 15,
   "metadata": {},
   "outputs": [
    {
     "data": {
      "text/plain": [
       "(array([ 171809.,  219272.,  205788.,  196054.,  198266.,  277562.]),\n",
       " array([ 0.,  1.,  2.,  3.,  4.,  5.,  6.]),\n",
       " <a list of 6 Patch objects>)"
      ]
     },
     "execution_count": 15,
     "metadata": {},
     "output_type": "execute_result"
    },
    {
     "data": {
      "image/png": "[encoded data removed]",
      "text/plain": [
       "<matplotlib.figure.Figure at 0x7f1cf46410b8>"
      ]
     },
     "metadata": {},
     "output_type": "display_data"
    }
   ],
   "source": [
    "import matplotlib.pyplot as plt\n",
    "%matplotlib inline \n",
    "\n",
    "plt.hist(stops[\"date\"].dt.weekday, bins=6)"
   ]
  },
  {
   "cell_type": "markdown",
   "metadata": {},
   "source": [
    "In this plot, Monday is 0, and Sunday is 6. It looks like Sunday has the most stops, and Monday has the least. This could also be a data quality issue where invalid dates resulted in Sunday for some reason. You'll have to dig more deeply into the date_of_stop column to figure it out definitively (this is beyond the scope of this post)."
   ]
  },
  {
   "cell_type": "code",
   "execution_count": 18,
   "metadata": {},
   "outputs": [
    {
     "data": {
      "text/html": [
       "<div>\n",
       "<table border=\"1\" class=\"dataframe\">\n",
       "  <thead>\n",
       "    <tr style=\"text-align: right;\">\n",
       "      <th></th>\n",
       "      <th>date_of_stop</th>\n",
       "      <th>time_of_stop</th>\n",
       "      <th>agency</th>\n",
       "      <th>subagency</th>\n",
       "      <th>description</th>\n",
       "      <th>location</th>\n",
       "      <th>latitude</th>\n",
       "      <th>longitude</th>\n",
       "      <th>vehicle_type</th>\n",
       "      <th>year</th>\n",
       "      <th>...</th>\n",
       "      <th>model</th>\n",
       "      <th>color</th>\n",
       "      <th>violation_type</th>\n",
       "      <th>race</th>\n",
       "      <th>gender</th>\n",
       "      <th>driver_state</th>\n",
       "      <th>driver_city</th>\n",
       "      <th>dl_state</th>\n",
       "      <th>arrest_type</th>\n",
       "      <th>date</th>\n",
       "    </tr>\n",
       "  </thead>\n",
       "  <tbody>\n",
       "    <tr>\n",
       "      <th>0</th>\n",
       "      <td>2013-09-24T00:00:00</td>\n",
       "      <td>17:11:00</td>\n",
       "      <td>MCP</td>\n",
       "      <td>3rd district, Silver Spring</td>\n",
       "      <td>DRIVING VEHICLE ON HIGHWAY WITH SUSPENDED REGI...</td>\n",
       "      <td>8804 FLOWER AVE</td>\n",
       "      <td>0.000000</td>\n",
       "      <td>0.000000</td>\n",
       "      <td>02 - Automobile</td>\n",
       "      <td>2008</td>\n",
       "      <td>...</td>\n",
       "      <td>4S</td>\n",
       "      <td>BLACK</td>\n",
       "      <td>Citation</td>\n",
       "      <td>BLACK</td>\n",
       "      <td>M</td>\n",
       "      <td>MD</td>\n",
       "      <td>TAKOMA PARK</td>\n",
       "      <td>MD</td>\n",
       "      <td>A - Marked Patrol</td>\n",
       "      <td>2013-09-24 17:11:00</td>\n",
       "    </tr>\n",
       "    <tr>\n",
       "      <th>1</th>\n",
       "      <td>2017-08-29T00:00:00</td>\n",
       "      <td>10:19:00</td>\n",
       "      <td>MCP</td>\n",
       "      <td>2nd district, Bethesda</td>\n",
       "      <td>DRIVER FAILURE TO OBEY PROPERLY PLACED TRAFFIC...</td>\n",
       "      <td>WISCONSIN AVE@ ELM ST</td>\n",
       "      <td>38.981725</td>\n",
       "      <td>-77.092757</td>\n",
       "      <td>02 - Automobile</td>\n",
       "      <td>2001</td>\n",
       "      <td>...</td>\n",
       "      <td>COROLLA</td>\n",
       "      <td>GREEN</td>\n",
       "      <td>Citation</td>\n",
       "      <td>WHITE</td>\n",
       "      <td>F</td>\n",
       "      <td>VA</td>\n",
       "      <td>FAIRFAX STATION</td>\n",
       "      <td>VA</td>\n",
       "      <td>A - Marked Patrol</td>\n",
       "      <td>2017-08-29 10:19:00</td>\n",
       "    </tr>\n",
       "    <tr>\n",
       "      <th>2</th>\n",
       "      <td>2014-12-01T00:00:00</td>\n",
       "      <td>12:52:00</td>\n",
       "      <td>MCP</td>\n",
       "      <td>6th district, Gaithersburg / Montgomery Village</td>\n",
       "      <td>FAILURE STOP AND YIELD AT THRU HWY</td>\n",
       "      <td>CHRISTOPHER AVE/MONTGOMERY VILLAGE AVE</td>\n",
       "      <td>39.162888</td>\n",
       "      <td>-77.229088</td>\n",
       "      <td>02 - Automobile</td>\n",
       "      <td>2001</td>\n",
       "      <td>...</td>\n",
       "      <td>ACCORD</td>\n",
       "      <td>SILVER</td>\n",
       "      <td>Citation</td>\n",
       "      <td>BLACK</td>\n",
       "      <td>F</td>\n",
       "      <td>MD</td>\n",
       "      <td>UPPER MARLBORO</td>\n",
       "      <td>MD</td>\n",
       "      <td>A - Marked Patrol</td>\n",
       "      <td>2014-12-01 12:52:00</td>\n",
       "    </tr>\n",
       "    <tr>\n",
       "      <th>3</th>\n",
       "      <td>2017-08-29T00:00:00</td>\n",
       "      <td>09:22:00</td>\n",
       "      <td>MCP</td>\n",
       "      <td>3rd district, Silver Spring</td>\n",
       "      <td>FAILURE YIELD RIGHT OF WAY ON U TURN</td>\n",
       "      <td>CHERRY HILL RD./CALVERTON BLVD.</td>\n",
       "      <td>39.056975</td>\n",
       "      <td>-76.954633</td>\n",
       "      <td>02 - Automobile</td>\n",
       "      <td>1998</td>\n",
       "      <td>...</td>\n",
       "      <td>DAKOTA</td>\n",
       "      <td>WHITE</td>\n",
       "      <td>Citation</td>\n",
       "      <td>BLACK</td>\n",
       "      <td>M</td>\n",
       "      <td>MD</td>\n",
       "      <td>FORT WASHINGTON</td>\n",
       "      <td>MD</td>\n",
       "      <td>A - Marked Patrol</td>\n",
       "      <td>2017-08-29 09:22:00</td>\n",
       "    </tr>\n",
       "    <tr>\n",
       "      <th>4</th>\n",
       "      <td>2017-08-28T00:00:00</td>\n",
       "      <td>23:41:00</td>\n",
       "      <td>MCP</td>\n",
       "      <td>6th district, Gaithersburg / Montgomery Village</td>\n",
       "      <td>FAILURE OF DR. TO MAKE LANE CHANGE TO AVAIL. L...</td>\n",
       "      <td>355 @ SOUTH WESTLAND DRIVE</td>\n",
       "      <td>0.000000</td>\n",
       "      <td>0.000000</td>\n",
       "      <td>02 - Automobile</td>\n",
       "      <td>2015</td>\n",
       "      <td>...</td>\n",
       "      <td>2S</td>\n",
       "      <td>WHITE</td>\n",
       "      <td>Citation</td>\n",
       "      <td>WHITE</td>\n",
       "      <td>M</td>\n",
       "      <td>MD</td>\n",
       "      <td>GAITHERSBURG</td>\n",
       "      <td>MD</td>\n",
       "      <td>A - Marked Patrol</td>\n",
       "      <td>2017-08-28 23:41:00</td>\n",
       "    </tr>\n",
       "  </tbody>\n",
       "</table>\n",
       "<p>5 rows × 21 columns</p>\n",
       "</div>"
      ],
      "text/plain": [
       "          date_of_stop time_of_stop agency  \\\n",
       "0  2013-09-24T00:00:00     17:11:00    MCP   \n",
       "1  2017-08-29T00:00:00     10:19:00    MCP   \n",
       "2  2014-12-01T00:00:00     12:52:00    MCP   \n",
       "3  2017-08-29T00:00:00     09:22:00    MCP   \n",
       "4  2017-08-28T00:00:00     23:41:00    MCP   \n",
       "\n",
       "                                         subagency  \\\n",
       "0                      3rd district, Silver Spring   \n",
       "1                           2nd district, Bethesda   \n",
       "2  6th district, Gaithersburg / Montgomery Village   \n",
       "3                      3rd district, Silver Spring   \n",
       "4  6th district, Gaithersburg / Montgomery Village   \n",
       "\n",
       "                                         description  \\\n",
       "0  DRIVING VEHICLE ON HIGHWAY WITH SUSPENDED REGI...   \n",
       "1  DRIVER FAILURE TO OBEY PROPERLY PLACED TRAFFIC...   \n",
       "2                 FAILURE STOP AND YIELD AT THRU HWY   \n",
       "3               FAILURE YIELD RIGHT OF WAY ON U TURN   \n",
       "4  FAILURE OF DR. TO MAKE LANE CHANGE TO AVAIL. L...   \n",
       "\n",
       "                                 location   latitude  longitude  \\\n",
       "0                         8804 FLOWER AVE   0.000000   0.000000   \n",
       "1                   WISCONSIN AVE@ ELM ST  38.981725 -77.092757   \n",
       "2  CHRISTOPHER AVE/MONTGOMERY VILLAGE AVE  39.162888 -77.229088   \n",
       "3         CHERRY HILL RD./CALVERTON BLVD.  39.056975 -76.954633   \n",
       "4              355 @ SOUTH WESTLAND DRIVE   0.000000   0.000000   \n",
       "\n",
       "      vehicle_type  year         ...            model   color violation_type  \\\n",
       "0  02 - Automobile  2008         ...               4S   BLACK       Citation   \n",
       "1  02 - Automobile  2001         ...          COROLLA   GREEN       Citation   \n",
       "2  02 - Automobile  2001         ...           ACCORD  SILVER       Citation   \n",
       "3  02 - Automobile  1998         ...           DAKOTA   WHITE       Citation   \n",
       "4  02 - Automobile  2015         ...               2S   WHITE       Citation   \n",
       "\n",
       "    race gender driver_state      driver_city dl_state        arrest_type  \\\n",
       "0  BLACK      M           MD      TAKOMA PARK       MD  A - Marked Patrol   \n",
       "1  WHITE      F           VA  FAIRFAX STATION       VA  A - Marked Patrol   \n",
       "2  BLACK      F           MD   UPPER MARLBORO       MD  A - Marked Patrol   \n",
       "3  BLACK      M           MD  FORT WASHINGTON       MD  A - Marked Patrol   \n",
       "4  WHITE      M           MD     GAITHERSBURG       MD  A - Marked Patrol   \n",
       "\n",
       "                 date  \n",
       "0 2013-09-24 17:11:00  \n",
       "1 2017-08-29 10:19:00  \n",
       "2 2014-12-01 12:52:00  \n",
       "3 2017-08-29 09:22:00  \n",
       "4 2017-08-28 23:41:00  \n",
       "\n",
       "[5 rows x 21 columns]"
      ]
     },
     "execution_count": 18,
     "metadata": {},
     "output_type": "execute_result"
    }
   ],
   "source": [
    "stops.head()"
   ]
  },
  {
   "cell_type": "code",
   "execution_count": 23,
   "metadata": {},
   "outputs": [],
   "source": [
    "last_year = stops[stops[\"date\"] > datetime.datetime(year=2017, month=3, day=28)]"
   ]
  },
  {
   "cell_type": "code",
   "execution_count": 26,
   "metadata": {},
   "outputs": [
    {
     "data": {
      "text/plain": [
       "(196156, 21)"
      ]
     },
     "execution_count": 26,
     "metadata": {},
     "output_type": "execute_result"
    }
   ],
   "source": [
    "last_year.shape"
   ]
  },
  {
   "cell_type": "code",
   "execution_count": 25,
   "metadata": {},
   "outputs": [
    {
     "name": "stdout",
     "output_type": "stream",
     "text": [
      "(24442, 21)\n"
     ]
    },
    {
     "data": {
      "text/plain": [
       "(196156, 21)"
      ]
     },
     "execution_count": 25,
     "metadata": {},
     "output_type": "execute_result"
    }
   ],
   "source": [
    "morning_rush = last_year[(last_year[\"date\"].dt.weekday < 5) & (last_year[\"date\"].dt.hour > 5) & (last_year[\"date\"].dt.hour < 10)]\n",
    "print(morning_rush.shape)\n",
    "last_year.shape"
   ]
  },
  {
   "cell_type": "code",
   "execution_count": 44,
   "metadata": {},
   "outputs": [],
   "source": [
    "import folium\n",
    "from folium import plugins"
   ]
  },
  {
   "cell_type": "code",
   "execution_count": 48,
   "metadata": {},
   "outputs": [
    {
     "data": {
      "text/plain": [
       "False"
      ]
     },
     "execution_count": 48,
     "metadata": {},
     "output_type": "execute_result"
    }
   ],
   "source": [
    "# map_osm = folium.Map(location=[45.5236, -122.6750])"
   ]
  },
  {
   "cell_type": "code",
   "execution_count": 42,
   "metadata": {},
   "outputs": [],
   "source": [
    "# deprecated markercluster syntax?\n",
    "# http://python-visualization.github.io/folium/docs-v0.5.0/plugins.html#folium-plugins\n",
    "\n",
    "stops_map = folium.Map(location=[39.0836, -77.1483], zoom_start=11)\n",
    "marker_cluster = plugins.MarkerCluster().add_to(stops_map)\n",
    "for name, row in morning_rush.iloc[:1000].iterrows():\n",
    "    folium.Marker([row[\"longitude\"], row[\"latitude\"]], popup=row[\"description\"]).add_to(marker_cluster)\n",
    "# stops_map.create_map('stops.html')\n",
    "stops_map.render()"
   ]
  },
  {
   "cell_type": "code",
   "execution_count": 159,
   "metadata": {},
   "outputs": [
    {
     "data": {
      "text/plain": [
       "[[39.056975, -76.9546333333333],\n",
       " [39.0333873333333, -77.0725278333333],\n",
       " [39.032983, -77.0738388333333],\n",
       " [39.0341763333333, -77.071888],\n",
       " [39.0341395, -77.0718986666667],\n",
       " [39.0222666666667, -77.0457016666667],\n",
       " [39.0222233333333, -77.0456516666667],\n",
       " [39.022115, -77.04815],\n",
       " [38.9986966666667, -77.0082683333333],\n",
       " [38.9986983333333, -77.0082]]"
      ]
     },
     "execution_count": 159,
     "metadata": {},
     "output_type": "execute_result"
    }
   ],
   "source": [
    "smallmap = morning_rush.iloc[:1000][['latitude', 'longitude']].get_values()[0:10]\n",
    "smallmap.data.tolist()"
   ]
  },
  {
   "cell_type": "code",
   "execution_count": 161,
   "metadata": {},
   "outputs": [],
   "source": [
    "heatmap = plugins.HeatMap( [[-76.95463333,  39.056975  ],\n",
    "       [-77.07252783,  39.03338733],\n",
    "       [-77.07383883,  39.032983  ],\n",
    "       [-77.071888  ,  39.03417633],\n",
    "       [-77.07189867,  39.0341395 ],\n",
    "       [-77.04570167,  39.02226667],\n",
    "       [-77.04565167,  39.02222333],\n",
    "       [-77.04815   ,  39.022115  ],\n",
    "       [-77.00826833,  38.99869667],\n",
    "       [-77.0082    ,  38.99869833]] )\n",
    "\n",
    "heatmap_full =  plugins.HeatMap( morning_rush.iloc[:1000][['latitude', 'longitude']].get_values().data.tolist() )"
   ]
  },
  {
   "cell_type": "code",
   "execution_count": 162,
   "metadata": {},
   "outputs": [
    {
     "data": {
      "text/html": [
       "<div style=\"width:100%;\"><div style=\"position:relative;width:100%;height:0;padding-bottom:60%;\"><iframe src=\"data:text/html;charset=utf-8;base64,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\" style=\"position:absolute;width:100%;height:100%;left:0;top:0;border:none !important;\" allowfullscreen webkitallowfullscreen mozallowfullscreen></iframe></div></div>"
      ],
      "text/plain": [
       "<folium.folium.Map at 0x7f1ce0a13400>"
      ]
     },
     "execution_count": 162,
     "metadata": {},
     "output_type": "execute_result"
    }
   ],
   "source": [
    "stops_heatmap = folium.Map(location=[39.0836, -77.1483], zoom_start=11)\n",
    "stops_heatmap.add_child(heatmap_full)\n",
    "# stops_heatmap.save(\"heatmap.html\")\n",
    "# stops_heatmap.render()"
   ]
  },
  {
   "cell_type": "code",
   "execution_count": 61,
   "metadata": {},
   "outputs": [
    {
     "data": {
      "text/html": [
       "<div>\n",
       "<table border=\"1\" class=\"dataframe\">\n",
       "  <thead>\n",
       "    <tr style=\"text-align: right;\">\n",
       "      <th></th>\n",
       "      <th>date_of_stop</th>\n",
       "      <th>time_of_stop</th>\n",
       "      <th>agency</th>\n",
       "      <th>subagency</th>\n",
       "      <th>description</th>\n",
       "      <th>location</th>\n",
       "      <th>latitude</th>\n",
       "      <th>longitude</th>\n",
       "      <th>vehicle_type</th>\n",
       "      <th>year</th>\n",
       "      <th>...</th>\n",
       "      <th>model</th>\n",
       "      <th>color</th>\n",
       "      <th>violation_type</th>\n",
       "      <th>race</th>\n",
       "      <th>gender</th>\n",
       "      <th>driver_state</th>\n",
       "      <th>driver_city</th>\n",
       "      <th>dl_state</th>\n",
       "      <th>arrest_type</th>\n",
       "      <th>date</th>\n",
       "    </tr>\n",
       "  </thead>\n",
       "  <tbody>\n",
       "    <tr>\n",
       "      <th>3</th>\n",
       "      <td>2017-08-29T00:00:00</td>\n",
       "      <td>09:22:00</td>\n",
       "      <td>MCP</td>\n",
       "      <td>3rd district, Silver Spring</td>\n",
       "      <td>FAILURE YIELD RIGHT OF WAY ON U TURN</td>\n",
       "      <td>CHERRY HILL RD./CALVERTON BLVD.</td>\n",
       "      <td>39.056975</td>\n",
       "      <td>-76.954633</td>\n",
       "      <td>02 - Automobile</td>\n",
       "      <td>1998</td>\n",
       "      <td>...</td>\n",
       "      <td>DAKOTA</td>\n",
       "      <td>WHITE</td>\n",
       "      <td>Citation</td>\n",
       "      <td>BLACK</td>\n",
       "      <td>M</td>\n",
       "      <td>MD</td>\n",
       "      <td>FORT WASHINGTON</td>\n",
       "      <td>MD</td>\n",
       "      <td>A - Marked Patrol</td>\n",
       "      <td>2017-08-29 09:22:00</td>\n",
       "    </tr>\n",
       "    <tr>\n",
       "      <th>188</th>\n",
       "      <td>2017-08-29T00:00:00</td>\n",
       "      <td>07:55:00</td>\n",
       "      <td>MCP</td>\n",
       "      <td>2nd district, Bethesda</td>\n",
       "      <td>EXCEEDING POSTED MAXIMUM SPEED LIMIT: 49 MPH I...</td>\n",
       "      <td>W/B UNIVERSITY BLVD @ NEWPORT MILL</td>\n",
       "      <td>39.033387</td>\n",
       "      <td>-77.072528</td>\n",
       "      <td>02 - Automobile</td>\n",
       "      <td>2013</td>\n",
       "      <td>...</td>\n",
       "      <td>CIVIC</td>\n",
       "      <td>GRAY</td>\n",
       "      <td>Citation</td>\n",
       "      <td>OTHER</td>\n",
       "      <td>F</td>\n",
       "      <td>MD</td>\n",
       "      <td>FULTON</td>\n",
       "      <td>MD</td>\n",
       "      <td>Q - Marked Laser</td>\n",
       "      <td>2017-08-29 07:55:00</td>\n",
       "    </tr>\n",
       "    <tr>\n",
       "      <th>190</th>\n",
       "      <td>2017-08-29T00:00:00</td>\n",
       "      <td>08:07:00</td>\n",
       "      <td>MCP</td>\n",
       "      <td>2nd district, Bethesda</td>\n",
       "      <td>EXCEEDING POSTED MAXIMUM SPEED LIMIT: 49 MPH I...</td>\n",
       "      <td>W/B UNIVERSITY BLVD @ NEWPORT MILL</td>\n",
       "      <td>39.032983</td>\n",
       "      <td>-77.073839</td>\n",
       "      <td>02 - Automobile</td>\n",
       "      <td>2017</td>\n",
       "      <td>...</td>\n",
       "      <td>WRX</td>\n",
       "      <td>RED</td>\n",
       "      <td>Citation</td>\n",
       "      <td>WHITE</td>\n",
       "      <td>M</td>\n",
       "      <td>MD</td>\n",
       "      <td>SILVER SPRING</td>\n",
       "      <td>MD</td>\n",
       "      <td>Q - Marked Laser</td>\n",
       "      <td>2017-08-29 08:07:00</td>\n",
       "    </tr>\n",
       "    <tr>\n",
       "      <th>191</th>\n",
       "      <td>2017-08-29T00:00:00</td>\n",
       "      <td>08:18:00</td>\n",
       "      <td>MCP</td>\n",
       "      <td>2nd district, Bethesda</td>\n",
       "      <td>EXCEEDING POSTED MAXIMUM SPEED LIMIT: 49 MPH I...</td>\n",
       "      <td>W/B UNIVERSITY BLVD @ NEWPORT MILL</td>\n",
       "      <td>39.034176</td>\n",
       "      <td>-77.071888</td>\n",
       "      <td>02 - Automobile</td>\n",
       "      <td>2003</td>\n",
       "      <td>...</td>\n",
       "      <td>4DR</td>\n",
       "      <td>SILVER</td>\n",
       "      <td>Citation</td>\n",
       "      <td>BLACK</td>\n",
       "      <td>M</td>\n",
       "      <td>MD</td>\n",
       "      <td>SILVER SPRING</td>\n",
       "      <td>MD</td>\n",
       "      <td>Q - Marked Laser</td>\n",
       "      <td>2017-08-29 08:18:00</td>\n",
       "    </tr>\n",
       "    <tr>\n",
       "      <th>192</th>\n",
       "      <td>2017-08-29T00:00:00</td>\n",
       "      <td>08:44:00</td>\n",
       "      <td>MCP</td>\n",
       "      <td>2nd district, Bethesda</td>\n",
       "      <td>EXCEEDING POSTED MAXIMUM SPEED LIMIT: 49 MPH I...</td>\n",
       "      <td>W/B UNIVERSITY BLVD @ NEWPORT MILL</td>\n",
       "      <td>39.034140</td>\n",
       "      <td>-77.071899</td>\n",
       "      <td>02 - Automobile</td>\n",
       "      <td>2004</td>\n",
       "      <td>...</td>\n",
       "      <td>4DR</td>\n",
       "      <td>SILVER</td>\n",
       "      <td>Citation</td>\n",
       "      <td>OTHER</td>\n",
       "      <td>M</td>\n",
       "      <td>MD</td>\n",
       "      <td>LANHAM</td>\n",
       "      <td>MD</td>\n",
       "      <td>Q - Marked Laser</td>\n",
       "      <td>2017-08-29 08:44:00</td>\n",
       "    </tr>\n",
       "  </tbody>\n",
       "</table>\n",
       "<p>5 rows × 21 columns</p>\n",
       "</div>"
      ],
      "text/plain": [
       "            date_of_stop time_of_stop agency                    subagency  \\\n",
       "3    2017-08-29T00:00:00     09:22:00    MCP  3rd district, Silver Spring   \n",
       "188  2017-08-29T00:00:00     07:55:00    MCP       2nd district, Bethesda   \n",
       "190  2017-08-29T00:00:00     08:07:00    MCP       2nd district, Bethesda   \n",
       "191  2017-08-29T00:00:00     08:18:00    MCP       2nd district, Bethesda   \n",
       "192  2017-08-29T00:00:00     08:44:00    MCP       2nd district, Bethesda   \n",
       "\n",
       "                                           description  \\\n",
       "3                 FAILURE YIELD RIGHT OF WAY ON U TURN   \n",
       "188  EXCEEDING POSTED MAXIMUM SPEED LIMIT: 49 MPH I...   \n",
       "190  EXCEEDING POSTED MAXIMUM SPEED LIMIT: 49 MPH I...   \n",
       "191  EXCEEDING POSTED MAXIMUM SPEED LIMIT: 49 MPH I...   \n",
       "192  EXCEEDING POSTED MAXIMUM SPEED LIMIT: 49 MPH I...   \n",
       "\n",
       "                               location   latitude  longitude  \\\n",
       "3       CHERRY HILL RD./CALVERTON BLVD.  39.056975 -76.954633   \n",
       "188  W/B UNIVERSITY BLVD @ NEWPORT MILL  39.033387 -77.072528   \n",
       "190  W/B UNIVERSITY BLVD @ NEWPORT MILL  39.032983 -77.073839   \n",
       "191  W/B UNIVERSITY BLVD @ NEWPORT MILL  39.034176 -77.071888   \n",
       "192  W/B UNIVERSITY BLVD @ NEWPORT MILL  39.034140 -77.071899   \n",
       "\n",
       "        vehicle_type  year         ...           model   color violation_type  \\\n",
       "3    02 - Automobile  1998         ...          DAKOTA   WHITE       Citation   \n",
       "188  02 - Automobile  2013         ...           CIVIC    GRAY       Citation   \n",
       "190  02 - Automobile  2017         ...             WRX     RED       Citation   \n",
       "191  02 - Automobile  2003         ...             4DR  SILVER       Citation   \n",
       "192  02 - Automobile  2004         ...             4DR  SILVER       Citation   \n",
       "\n",
       "      race gender driver_state      driver_city dl_state        arrest_type  \\\n",
       "3    BLACK      M           MD  FORT WASHINGTON       MD  A - Marked Patrol   \n",
       "188  OTHER      F           MD           FULTON       MD   Q - Marked Laser   \n",
       "190  WHITE      M           MD    SILVER SPRING       MD   Q - Marked Laser   \n",
       "191  BLACK      M           MD    SILVER SPRING       MD   Q - Marked Laser   \n",
       "192  OTHER      M           MD           LANHAM       MD   Q - Marked Laser   \n",
       "\n",
       "                   date  \n",
       "3   2017-08-29 09:22:00  \n",
       "188 2017-08-29 07:55:00  \n",
       "190 2017-08-29 08:07:00  \n",
       "191 2017-08-29 08:18:00  \n",
       "192 2017-08-29 08:44:00  \n",
       "\n",
       "[5 rows x 21 columns]"
      ]
     },
     "execution_count": 61,
     "metadata": {},
     "output_type": "execute_result"
    }
   ],
   "source": [
    "morning_rush.iloc[:5]"
   ]
  },
  {
   "cell_type": "code",
   "execution_count": 86,
   "metadata": {},
   "outputs": [
    {
     "ename": "SyntaxError",
     "evalue": "invalid syntax (<ipython-input-86-02559f0f61d2>, line 1)",
     "output_type": "error",
     "traceback": [
      "\u001b[0;36m  File \u001b[0;32m\"<ipython-input-86-02559f0f61d2>\"\u001b[0;36m, line \u001b[0;32m1\u001b[0m\n\u001b[0;31m    [row[\"longitude\"], row[\"latitude\"]] for row in morning_rush.iloc[:5].iterrows()\u001b[0m\n\u001b[0m                                          ^\u001b[0m\n\u001b[0;31mSyntaxError\u001b[0m\u001b[0;31m:\u001b[0m invalid syntax\n"
     ]
    }
   ],
   "source": [
    "[row[\"longitude\"], row[\"latitude\"]] for row in morning_rush.iloc[:5].iterrows()"
   ]
  },
  {
   "cell_type": "code",
   "execution_count": 99,
   "metadata": {},
   "outputs": [
    {
     "data": {
      "text/plain": [
       "3     -76.954633\n",
       "188   -77.072528\n",
       "190   -77.073839\n",
       "191   -77.071888\n",
       "192   -77.071899\n",
       "Name: longitude, dtype: float64"
      ]
     },
     "execution_count": 99,
     "metadata": {},
     "output_type": "execute_result"
    }
   ],
   "source": [
    "morning_rush.iloc[:5]['longitude']"
   ]
  },
  {
   "cell_type": "code",
   "execution_count": 103,
   "metadata": {},
   "outputs": [
    {
     "data": {
      "text/html": [
       "<div>\n",
       "<table border=\"1\" class=\"dataframe\">\n",
       "  <thead>\n",
       "    <tr style=\"text-align: right;\">\n",
       "      <th></th>\n",
       "      <th>latitude</th>\n",
       "      <th>longitude</th>\n",
       "    </tr>\n",
       "  </thead>\n",
       "  <tbody>\n",
       "    <tr>\n",
       "      <th>3</th>\n",
       "      <td>39.056975</td>\n",
       "      <td>-76.954633</td>\n",
       "    </tr>\n",
       "    <tr>\n",
       "      <th>188</th>\n",
       "      <td>39.033387</td>\n",
       "      <td>-77.072528</td>\n",
       "    </tr>\n",
       "    <tr>\n",
       "      <th>190</th>\n",
       "      <td>39.032983</td>\n",
       "      <td>-77.073839</td>\n",
       "    </tr>\n",
       "    <tr>\n",
       "      <th>191</th>\n",
       "      <td>39.034176</td>\n",
       "      <td>-77.071888</td>\n",
       "    </tr>\n",
       "    <tr>\n",
       "      <th>192</th>\n",
       "      <td>39.034140</td>\n",
       "      <td>-77.071899</td>\n",
       "    </tr>\n",
       "  </tbody>\n",
       "</table>\n",
       "</div>"
      ],
      "text/plain": [
       "      latitude  longitude\n",
       "3    39.056975 -76.954633\n",
       "188  39.033387 -77.072528\n",
       "190  39.032983 -77.073839\n",
       "191  39.034176 -77.071888\n",
       "192  39.034140 -77.071899"
      ]
     },
     "execution_count": 103,
     "metadata": {},
     "output_type": "execute_result"
    }
   ],
   "source": [
    "morning_rush.iloc[:5,6:8]"
   ]
  },
  {
   "cell_type": "code",
   "execution_count": 115,
   "metadata": {},
   "outputs": [
    {
     "data": {
      "text/html": [
       "<div>\n",
       "<table border=\"1\" class=\"dataframe\">\n",
       "  <thead>\n",
       "    <tr style=\"text-align: right;\">\n",
       "      <th></th>\n",
       "      <th>longitude</th>\n",
       "      <th>latitude</th>\n",
       "    </tr>\n",
       "  </thead>\n",
       "  <tbody>\n",
       "    <tr>\n",
       "      <th>3</th>\n",
       "      <td>-76.954633</td>\n",
       "      <td>39.056975</td>\n",
       "    </tr>\n",
       "    <tr>\n",
       "      <th>188</th>\n",
       "      <td>-77.072528</td>\n",
       "      <td>39.033387</td>\n",
       "    </tr>\n",
       "    <tr>\n",
       "      <th>190</th>\n",
       "      <td>-77.073839</td>\n",
       "      <td>39.032983</td>\n",
       "    </tr>\n",
       "    <tr>\n",
       "      <th>191</th>\n",
       "      <td>-77.071888</td>\n",
       "      <td>39.034176</td>\n",
       "    </tr>\n",
       "    <tr>\n",
       "      <th>192</th>\n",
       "      <td>-77.071899</td>\n",
       "      <td>39.034140</td>\n",
       "    </tr>\n",
       "  </tbody>\n",
       "</table>\n",
       "</div>"
      ],
      "text/plain": [
       "     longitude   latitude\n",
       "3   -76.954633  39.056975\n",
       "188 -77.072528  39.033387\n",
       "190 -77.073839  39.032983\n",
       "191 -77.071888  39.034176\n",
       "192 -77.071899  39.034140"
      ]
     },
     "execution_count": 115,
     "metadata": {},
     "output_type": "execute_result"
    }
   ],
   "source": [
    "sm = morning_rush.iloc[:5][['longitude', 'latitude']]\n",
    "sm"
   ]
  },
  {
   "cell_type": "code",
   "execution_count": 117,
   "metadata": {},
   "outputs": [
    {
     "data": {
      "text/plain": [
       "array([[-76.95463333,  39.056975  ],\n",
       "       [-77.07252783,  39.03338733],\n",
       "       [-77.07383883,  39.032983  ],\n",
       "       [-77.071888  ,  39.03417633],\n",
       "       [-77.07189867,  39.0341395 ]])"
      ]
     },
     "execution_count": 117,
     "metadata": {},
     "output_type": "execute_result"
    }
   ],
   "source": [
    "sm.get_values()"
   ]
  },
  {
   "cell_type": "code",
   "execution_count": 124,
   "metadata": {},
   "outputs": [
    {
     "data": {
      "text/plain": [
       "array([[ 39.056975  , -76.95463333],\n",
       "       [ 39.03338733, -77.07252783],\n",
       "       [ 39.032983  , -77.07383883],\n",
       "       ..., \n",
       "       [ 39.00645167, -77.02185   ],\n",
       "       [ 38.99627333, -77.02314167],\n",
       "       [ 38.99627333, -77.02314167]])"
      ]
     },
     "execution_count": 124,
     "metadata": {},
     "output_type": "execute_result"
    }
   ],
   "source": [
    "morning_rush.iloc[:1000][['latitude', 'longitude']].get_values()"
   ]
  },
  {
   "cell_type": "code",
   "execution_count": 123,
   "metadata": {},
   "outputs": [
    {
     "data": {
      "text/plain": [
       "array([-76.95463333,  39.056975  ])"
      ]
     },
     "execution_count": 123,
     "metadata": {},
     "output_type": "execute_result"
    }
   ],
   "source": [
    "morning_rush.iloc[:1000][['longitude', 'latitude']].get_values()[0]"
   ]
  },
  {
   "cell_type": "code",
   "execution_count": null,
   "metadata": {},
   "outputs": [],
   "source": []
  }
 ],
 "metadata": {
  "kernelspec": {
   "display_name": "Python 3",
   "language": "python",
   "name": "python3"
  },
  "language_info": {
   "codemirror_mode": {
    "name": "ipython",
    "version": 3
   },
   "file_extension": ".py",
   "mimetype": "text/x-python",
   "name": "python",
   "nbconvert_exporter": "python",
   "pygments_lexer": "ipython3",
   "version": "3.6.3"
  }
 },
 "nbformat": 4,
 "nbformat_minor": 2
}
