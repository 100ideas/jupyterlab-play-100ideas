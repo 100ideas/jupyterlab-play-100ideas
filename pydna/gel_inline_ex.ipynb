{
 "cells": [
  {
   "cell_type": "code",
   "execution_count": 1,
   "metadata": {
    "collapsed": true
   },
   "outputs": [],
   "source": [
    "%matplotlib inline"
   ]
  },
  {
   "cell_type": "markdown",
   "metadata": {},
   "source": [
    "This is a short example of how the DNA agarose gel electrophoresis in pydna can be used.\n",
    "The %matplotlib inline in the line above is there to facilitate viewing matplotlib plots in    "
   ]
  },
  {
   "cell_type": "markdown",
   "metadata": {},
   "source": [
    "## Pydna Gel Electrophoresis Simulation"
   ]
  },
  {
   "cell_type": "code",
   "execution_count": 2,
   "metadata": {
    "collapsed": true
   },
   "outputs": [],
   "source": [
    "from pydna.gel import weight_standard_sample, Gel"
   ]
  },
  {
   "cell_type": "code",
   "execution_count": 3,
   "metadata": {},
   "outputs": [],
   "source": [
    "st = weight_standard_sample('1kb+_GeneRuler')"
   ]
  },
  {
   "cell_type": "code",
   "execution_count": 4,
   "metadata": {
    "collapsed": true
   },
   "outputs": [],
   "source": [
    "from pydna.genbank import Genbank"
   ]
  },
  {
   "cell_type": "code",
   "execution_count": 5,
   "metadata": {
    "collapsed": true
   },
   "outputs": [],
   "source": [
    "gb = Genbank(\"bjornjobb@gmail.com\")"
   ]
  },
  {
   "cell_type": "code",
   "execution_count": 6,
   "metadata": {
    "collapsed": true
   },
   "outputs": [],
   "source": [
    "gene = gb.nucleotide(\"X06997\")"
   ]
  },
  {
   "cell_type": "code",
   "execution_count": 7,
   "metadata": {
    "collapsed": true
   },
   "outputs": [],
   "source": [
    "from pydna.parsers import parse_primers"
   ]
  },
  {
   "cell_type": "code",
   "execution_count": 8,
   "metadata": {
    "collapsed": true
   },
   "outputs": [],
   "source": [
    "primer_f, primer_r =      parse_primers(''' >760_KlLAC12_rv (20-mer)\n",
    "                                             ttaaacagattctgcctctg\n",
    "\n",
    "                                             >759_KlLAC12_fw (19-mer)\n",
    "                                             aaatggcagatcattcgag\n",
    "                                         ''')"
   ]
  },
  {
   "cell_type": "code",
   "execution_count": 9,
   "metadata": {
    "collapsed": true
   },
   "outputs": [],
   "source": [
    "from pydna.amplify import pcr"
   ]
  },
  {
   "cell_type": "code",
   "execution_count": 10,
   "metadata": {
    "collapsed": true
   },
   "outputs": [],
   "source": [
    "# PCR\n",
    "pcr_prod = pcr(primer_f, primer_r, gene)"
   ]
  },
  {
   "cell_type": "code",
   "execution_count": 11,
   "metadata": {},
   "outputs": [
    {
     "data": {
      "text/html": [
       "Amplicon(1766)"
      ],
      "text/plain": [
       "Amplicon(1766)"
      ]
     },
     "execution_count": 11,
     "metadata": {},
     "output_type": "execute_result"
    }
   ],
   "source": [
    "pcr_prod"
   ]
  },
  {
   "cell_type": "code",
   "execution_count": 13,
   "metadata": {},
   "outputs": [
    {
     "data": {
      "image/png": "[encoded data removed]",
      "text/plain": [
       "<matplotlib.figure.Figure at 0x7fd19c315da0>"
      ]
     },
     "metadata": {},
     "output_type": "display_data"
    }
   ],
   "source": [
    "Gel([ st,[pcr_prod]] , gel_len=16).run()"
   ]
  },
  {
   "cell_type": "code",
   "execution_count": 15,
   "metadata": {},
   "outputs": [],
   "source": [
    "from pydna.dseqrecord import Dseqrecord"
   ]
  },
  {
   "cell_type": "code",
   "execution_count": 18,
   "metadata": {},
   "outputs": [],
   "source": [
    "from pydna import all"
   ]
  },
  {
   "cell_type": "code",
   "execution_count": 21,
   "metadata": {},
   "outputs": [],
   "source": [
    "from Bio.Seq import Seq\n",
    "from Bio.SeqRecord import SeqRecord\n",
    "from Bio.SeqUtils.CheckSum import seguid"
   ]
  },
  {
   "cell_type": "code",
   "execution_count": 22,
   "metadata": {},
   "outputs": [],
   "source": [
    "GUP1rec1sens = SeqRecord(Seq(\"gaattcgatatcaagcttatcgataccgatgtcgctgatcagcatcctgtctcc\"))\n",
    "GUP1rec2AS =   SeqRecord(Seq(\"gacataactaattacatgactcgaggtcgactcagcattttaggtaaattccg\"))"
   ]
  },
  {
   "cell_type": "code",
   "execution_count": 43,
   "metadata": {},
   "outputs": [],
   "source": [
    "GUP1 = read(\"/home/jovyan/work/scripts/pGUP1/GUP1_locus.gb\")"
   ]
  },
  {
   "cell_type": "code",
   "execution_count": 27,
   "metadata": {},
   "outputs": [],
   "source": [
    "insert = pcr(GUP1rec1sens, GUP1rec2AS, GUP1)"
   ]
  },
  {
   "cell_type": "code",
   "execution_count": 31,
   "metadata": {},
   "outputs": [
    {
     "data": {
      "text/plain": [
       "                            5atgtcgctgatcagcatcctgtctcc...cggaatttacctaaaatgctga3\n",
       "                                                          |||||||||||||||||||||| tm 54.5 (dbd) 63.1\n",
       "                                                         3gccttaaatggattttacgactcagctggagctcagtacattaatcaatacag5\n",
       "5gaattcgatatcaagcttatcgataccgatgtcgctgatcagcatcctgtctcc3\n",
       "                             |||||||||||||||||||||||||| tm 65.2 (dbd) 75.1\n",
       "                            3tacagcgactagtcgtaggacagagg...gccttaaatggattttacgact5"
      ]
     },
     "execution_count": 31,
     "metadata": {},
     "output_type": "execute_result"
    }
   ],
   "source": [
    "insert.figure()"
   ]
  },
  {
   "cell_type": "code",
   "execution_count": 32,
   "metadata": {},
   "outputs": [],
   "source": [
    "pGREG505 = read(\"/home/jovyan/work/scripts/pGUP1/pGREG505.gb\")"
   ]
  },
  {
   "cell_type": "code",
   "execution_count": 33,
   "metadata": {},
   "outputs": [],
   "source": [
    "from Bio.Restriction import SalI"
   ]
  },
  {
   "cell_type": "code",
   "execution_count": 36,
   "metadata": {},
   "outputs": [],
   "source": [
    "linear_vector, his3 = pGREG505.cut(SalI)"
   ]
  },
  {
   "cell_type": "code",
   "execution_count": 39,
   "metadata": {},
   "outputs": [
    {
     "data": {
      "text/plain": [
       "+----------+-----------+-------+------+--------+--------------+--------------+------+\n",
       "| Feature# | Direction | Start | End  | Length | id           | type         | orf? |\n",
       "+----------+-----------+-------+------+--------+--------------+--------------+------+\n",
       "| 0        |    -->    |  271  | 305  |     34 | <unknown id> | misc_recomb  |  no  |\n",
       "| 1        |    -->    |  1773 | 1807 |     34 | <unknown id> | misc_recomb  |  no  |\n",
       "| 2        |    <--    |  1842 | 1863 |     21 | <unknown id> | primer_bind  |  no  |\n",
       "| 3        |    <--    |  1871 | 1889 |     18 | <unknown id> | primer_bind  |  no  |\n",
       "| 4        |    -->    |  1959 | 2028 |     69 | <unknown id> | CDS          |  no  |\n",
       "| 5        |    -->    |  2032 | 2488 |    456 | <unknown id> | rep_origin   |  no  |\n",
       "| 6        |    -->    |  2049 | 2356 |    307 | <unknown id> | rep_origin   |  no  |\n",
       "| 7        |    -->    |  5873 | 6536 |    663 | <unknown id> | CDS          | yes  |\n",
       "| 8        |    -->    |  6630 | 7313 |    683 | <unknown id> | rep_origin   |  no  |\n",
       "| 9        |    -->    |  7652 | 7675 |     23 | <unknown id> | misc_binding |  no  |\n",
       "| 10       |    -->    |  7680 | 7701 |     21 | <unknown id> | primer_bind  |  no  |\n",
       "| 11       |    -->    |  7718 | 7738 |     20 | <unknown id> | primer_bind  |  no  |\n",
       "| 12       |    -->    |  7779 | 8223 |    444 | <unknown id> | misc_feature |  no  |\n",
       "+----------+-----------+-------+------+--------+--------------+--------------+------+"
      ]
     },
     "execution_count": 39,
     "metadata": {},
     "output_type": "execute_result"
    }
   ],
   "source": [
    "linear_vector.list_features()"
   ]
  },
  {
   "cell_type": "code",
   "execution_count": 45,
   "metadata": {},
   "outputs": [],
   "source": [
    "from pydna.assembly import Assembly"
   ]
  },
  {
   "cell_type": "code",
   "execution_count": 47,
   "metadata": {},
   "outputs": [],
   "source": [
    "assembly_product = Assembly((insert, linear_vector), limit=28)"
   ]
  },
  {
   "cell_type": "code",
   "execution_count": 48,
   "metadata": {},
   "outputs": [
    {
     "data": {
      "text/plain": [
       "Assembly:\n",
       "Sequences........................: [1742] [8301]\n",
       "Sequences with shared homologies.: [1742] [8301]\n",
       "Homology limit (bp)..............: 28\n",
       "Number of overlaps...............: 2\n",
       "Nodes in graph(incl. 5' & 3')....: 4\n",
       "Only terminal overlaps...........: No\n",
       "Circular products................: [9981]\n",
       "Linear products..................: [10013] [10011] [32] [30]"
      ]
     },
     "execution_count": 48,
     "metadata": {},
     "output_type": "execute_result"
    }
   ],
   "source": [
    "assembly_product"
   ]
  },
  {
   "cell_type": "code",
   "execution_count": 54,
   "metadata": {},
   "outputs": [
    {
     "data": {
      "text/html": [
       "<pre> -|1742bp_PCR_prod|30\n",
       "|                  \\/\n",
       "|                  /\\\n",
       "|                  30|pGREG505|28\n",
       "|                              \\/\n",
       "|                              /\\\n",
       "|                              28-\n",
       "|                                 |\n",
       " ---------------------------------</pre>"
      ],
      "text/plain": [
       "Contig(o9981)"
      ]
     },
     "execution_count": 54,
     "metadata": {},
     "output_type": "execute_result"
    }
   ],
   "source": [
    "pGUP1 = assembly_product.circular_products[0]\n",
    "pGUP1"
   ]
  },
  {
   "cell_type": "code",
   "execution_count": 63,
   "metadata": {},
   "outputs": [
    {
     "ename": "NameError",
     "evalue": "name 'sync' is not defined",
     "output_type": "error",
     "traceback": [
      "\u001b[0;31m---------------------------------------------------------------------------\u001b[0m",
      "\u001b[0;31mNameError\u001b[0m                                 Traceback (most recent call last)",
      "\u001b[0;32m<ipython-input-63-7e256d451ad5>\u001b[0m in \u001b[0;36m<module>\u001b[0;34m()\u001b[0m\n\u001b[0;32m----> 1\u001b[0;31m \u001b[0msync\u001b[0m\u001b[0;34m(\u001b[0m\u001b[0mpGUP1\u001b[0m\u001b[0;34m,\u001b[0m \u001b[0mpGREG505\u001b[0m\u001b[0;34m)\u001b[0m\u001b[0;34m\u001b[0m\u001b[0m\n\u001b[0m\u001b[1;32m      2\u001b[0m \u001b[0;31m#  moved to Dseqrecord method:\u001b[0m\u001b[0;34m\u001b[0m\u001b[0;34m\u001b[0m\u001b[0m\n\u001b[1;32m      3\u001b[0m \u001b[0;31m#  https://github.com/BjornFJohansson/pydna/blob/cbb04a8fec85d24718a30042c1499584998bd705/pydna/dseqrecord.py#L1297\u001b[0m\u001b[0;34m\u001b[0m\u001b[0;34m\u001b[0m\u001b[0m\n",
      "\u001b[0;31mNameError\u001b[0m: name 'sync' is not defined"
     ]
    }
   ],
   "source": [
    "sync(pGUP1, pGREG505)\n",
    "#  moved to Dseqrecord method:\n",
    "#  https://github.com/BjornFJohansson/pydna/blob/cbb04a8fec85d24718a30042c1499584998bd705/pydna/dseqrecord.py#L1297"
   ]
  },
  {
   "cell_type": "code",
   "execution_count": 71,
   "metadata": {},
   "outputs": [],
   "source": [
    "rotated = pGUP1.synced(pGREG505)"
   ]
  },
  {
   "cell_type": "code",
   "execution_count": 73,
   "metadata": {},
   "outputs": [],
   "source": [
    "# and now for some pcr..."
   ]
  },
  {
   "cell_type": "code",
   "execution_count": 146,
   "metadata": {},
   "outputs": [],
   "source": [
    "from pydna.parsers import parse\n",
    "from pydna.amplify import Anneal\n",
    "from pydna.dseqrecord import Dseqrecord\n",
    "from Bio.SeqRecord import SeqRecord\n",
    "# from pydna.seqrecord import SeqRecord"
   ]
  },
  {
   "cell_type": "raw",
   "metadata": {},
   "source": []
  },
  {
   "cell_type": "code",
   "execution_count": 147,
   "metadata": {},
   "outputs": [],
   "source": [
    "template = Dseqrecord(\"tacactcaccgtctatcattatctactatcgactgtatcatctgatagcac\", name=\"mystery sample\")"
   ]
  },
  {
   "cell_type": "code",
   "execution_count": 161,
   "metadata": {},
   "outputs": [],
   "source": [
    "p1 = SeqRecord(\"ntacactcaccgtctatcattatc\", name=\"primer1\", id=\"p1\")\n",
    "p2 = SeqRecord(\"ngtgctatcagatgatacagtcg\", name=\"primer2\", id=\"p2\")"
   ]
  },
  {
   "cell_type": "code",
   "execution_count": 162,
   "metadata": {},
   "outputs": [
    {
     "data": {
      "text/plain": [
       "(SeqRecord(seq='ntacactcaccgtctatcattatc', id='p1', name='primer1', description='<unknown description>', dbxrefs=[]),\n",
       " SeqRecord(seq='ngtgctatcagatgatacagtcg', id='p2', name='primer2', description='<unknown description>', dbxrefs=[]))"
      ]
     },
     "execution_count": 162,
     "metadata": {},
     "output_type": "execute_result"
    }
   ],
   "source": [
    "p1, p2"
   ]
  },
  {
   "cell_type": "code",
   "execution_count": 163,
   "metadata": {},
   "outputs": [],
   "source": [
    "ann = Anneal((p1, p2), template)"
   ]
  },
  {
   "cell_type": "code",
   "execution_count": 164,
   "metadata": {},
   "outputs": [
    {
     "name": "stdout",
     "output_type": "stream",
     "text": [
      "Template mystery sample 51 nt linear:\n",
      "Primer primer1 anneals forward at position 23\n",
      "\n",
      "Primer primer2 anneals reverse at position 29\n"
     ]
    }
   ],
   "source": [
    "print(ann.report())"
   ]
  },
  {
   "cell_type": "code",
   "execution_count": 165,
   "metadata": {},
   "outputs": [
    {
     "data": {
      "text/plain": [
       "[Amplicon(53)]"
      ]
     },
     "execution_count": 165,
     "metadata": {},
     "output_type": "execute_result"
    }
   ],
   "source": [
    "ann.products"
   ]
  },
  {
   "cell_type": "code",
   "execution_count": 166,
   "metadata": {},
   "outputs": [],
   "source": [
    "amplicon_list = ann.products"
   ]
  },
  {
   "cell_type": "code",
   "execution_count": 167,
   "metadata": {},
   "outputs": [],
   "source": [
    "amplicon = amplicon_list.pop()"
   ]
  },
  {
   "cell_type": "code",
   "execution_count": 168,
   "metadata": {},
   "outputs": [
    {
     "data": {
      "text/html": [
       "Amplicon(53)"
      ],
      "text/plain": [
       "Amplicon(53)"
      ]
     },
     "execution_count": 168,
     "metadata": {},
     "output_type": "execute_result"
    }
   ],
   "source": [
    "amplicon"
   ]
  },
  {
   "cell_type": "code",
   "execution_count": 169,
   "metadata": {},
   "outputs": [
    {
     "data": {
      "text/plain": [
       "(p1 24-mer:5'-ntacactcaccgtct..atc-3', p2 23-mer:5'-ngtgctatcagatga..tcg-3')"
      ]
     },
     "execution_count": 169,
     "metadata": {},
     "output_type": "execute_result"
    }
   ],
   "source": [
    "amplicon.forward_primer, amplicon.reverse_primer"
   ]
  },
  {
   "cell_type": "code",
   "execution_count": 171,
   "metadata": {},
   "outputs": [
    {
     "data": {
      "text/plain": [
       "'gtgctatcagatgatacagtcg'"
      ]
     },
     "execution_count": 171,
     "metadata": {},
     "output_type": "execute_result"
    }
   ],
   "source": [
    "amplicon.reverse_primer.footprint"
   ]
  },
  {
   "cell_type": "code",
   "execution_count": 174,
   "metadata": {},
   "outputs": [
    {
     "ename": "AttributeError",
     "evalue": "'str' object has no attribute 'reverse_complement'",
     "output_type": "error",
     "traceback": [
      "\u001b[0;31m---------------------------------------------------------------------------\u001b[0m",
      "\u001b[0;31mAttributeError\u001b[0m                            Traceback (most recent call last)",
      "\u001b[0;32m<ipython-input-174-24304114e45a>\u001b[0m in \u001b[0;36m<module>\u001b[0;34m()\u001b[0m\n\u001b[0;32m----> 1\u001b[0;31m \u001b[0mamplicon\u001b[0m\u001b[0;34m.\u001b[0m\u001b[0mfigure\u001b[0m\u001b[0;34m(\u001b[0m\u001b[0;34m)\u001b[0m\u001b[0;34m\u001b[0m\u001b[0m\n\u001b[0m\u001b[1;32m      2\u001b[0m \u001b[0;31m# error b/c footprint returns a string I think\u001b[0m\u001b[0;34m\u001b[0m\u001b[0;34m\u001b[0m\u001b[0m\n",
      "\u001b[0;32m/opt/conda/lib/python3.6/site-packages/pydna/amplicon.py\u001b[0m in \u001b[0;36mfigure\u001b[0;34m(self)\u001b[0m\n\u001b[1;32m    264\u001b[0m                         \u001b[0mrplength\u001b[0m \u001b[0;34m=\u001b[0m \u001b[0mlen\u001b[0m\u001b[0;34m(\u001b[0m\u001b[0mself\u001b[0m\u001b[0;34m.\u001b[0m\u001b[0mreverse_primer\u001b[0m\u001b[0;34m.\u001b[0m\u001b[0mseq\u001b[0m\u001b[0;34m)\u001b[0m\u001b[0;34m,\u001b[0m\u001b[0;34m\u001b[0m\u001b[0m\n\u001b[1;32m    265\u001b[0m                         \u001b[0mfaz\u001b[0m      \u001b[0;34m=\u001b[0m \u001b[0mself\u001b[0m\u001b[0;34m.\u001b[0m\u001b[0mforward_primer\u001b[0m\u001b[0;34m.\u001b[0m\u001b[0mfootprint\u001b[0m\u001b[0;34m,\u001b[0m\u001b[0;34m\u001b[0m\u001b[0m\n\u001b[0;32m--> 266\u001b[0;31m                         \u001b[0mraz\u001b[0m      \u001b[0;34m=\u001b[0m \u001b[0mself\u001b[0m\u001b[0;34m.\u001b[0m\u001b[0mreverse_primer\u001b[0m\u001b[0;34m.\u001b[0m\u001b[0mfootprint\u001b[0m\u001b[0;34m.\u001b[0m\u001b[0mreverse_complement\u001b[0m\u001b[0;34m(\u001b[0m\u001b[0;34m)\u001b[0m\u001b[0;34m,\u001b[0m\u001b[0;34m\u001b[0m\u001b[0m\n\u001b[0m\u001b[1;32m    267\u001b[0m                         \u001b[0mfzc\u001b[0m      \u001b[0;34m=\u001b[0m \u001b[0mself\u001b[0m\u001b[0;34m.\u001b[0m\u001b[0mforward_primer\u001b[0m\u001b[0;34m.\u001b[0m\u001b[0mfootprint\u001b[0m\u001b[0;34m.\u001b[0m\u001b[0mcomplement\u001b[0m\u001b[0;34m(\u001b[0m\u001b[0;34m)\u001b[0m\u001b[0;34m,\u001b[0m\u001b[0;34m\u001b[0m\u001b[0m\n\u001b[1;32m    268\u001b[0m                         \u001b[0mrzc\u001b[0m      \u001b[0;34m=\u001b[0m \u001b[0mself\u001b[0m\u001b[0;34m.\u001b[0m\u001b[0mreverse_primer\u001b[0m\u001b[0;34m.\u001b[0m\u001b[0mfootprint\u001b[0m\u001b[0;34m[\u001b[0m\u001b[0;34m:\u001b[0m\u001b[0;34m:\u001b[0m\u001b[0;34m-\u001b[0m\u001b[0;36m1\u001b[0m\u001b[0;34m]\u001b[0m\u001b[0;34m,\u001b[0m\u001b[0;34m\u001b[0m\u001b[0m\n",
      "\u001b[0;31mAttributeError\u001b[0m: 'str' object has no attribute 'reverse_complement'"
     ]
    }
   ],
   "source": [
    "amplicon.figure()\n",
    "# error b/c footprint returns a string I think"
   ]
  },
  {
   "cell_type": "code",
   "execution_count": 175,
   "metadata": {},
   "outputs": [
    {
     "name": "stdout",
     "output_type": "stream",
     "text": [
      "Dseqrecord\n",
      "circular: False\n",
      "size: 53\n",
      "ID: 53bp 2lnxc7yOqDEAtOsRLJKTxXME8tE\n",
      "Name: 53bp_PCR_prod\n",
      "Description: Product_<unknown description>_<unknown description>\n",
      "Number of features: 4\n",
      "/date=16-MAR-2018\n",
      "Dseq(-53)\n",
      "ntac..cacn\n",
      "natg..gtgn\n"
     ]
    }
   ],
   "source": [
    "print(amplicon)"
   ]
  },
  {
   "cell_type": "code",
   "execution_count": 176,
   "metadata": {},
   "outputs": [
    {
     "name": "stdout",
     "output_type": "stream",
     "text": [
      "\n",
      "Taq (rate 30 nt/s) 35 cycles             |53bp\n",
      "95.0°C    |95.0°C                 |      |Tm formula: Biopython Tm_NN\n",
      "|_________|_____          72.0°C  |72.0°C|SaltC 50mM\n",
      "| 03min00s|30s  \\         ________|______|Primer1C 1.0µM\n",
      "|         |      \\ 45.3°C/ 0min 2s| 5min |Primer2C 1.0µM\n",
      "|         |       \\_____/         |      |GC 37%\n",
      "|         |         30s           |      |4-12°C\n"
     ]
    }
   ],
   "source": [
    "print(amplicon.program())"
   ]
  },
  {
   "cell_type": "code",
   "execution_count": 177,
   "metadata": {},
   "outputs": [],
   "source": [
    "# now lets try the pcr convenience function..."
   ]
  },
  {
   "cell_type": "code",
   "execution_count": 178,
   "metadata": {},
   "outputs": [],
   "source": [
    "from pydna.amplify import pcr"
   ]
  },
  {
   "cell_type": "code",
   "execution_count": 182,
   "metadata": {},
   "outputs": [],
   "source": [
    "amplicon2 = pcr(p1, p2, template)"
   ]
  },
  {
   "cell_type": "code",
   "execution_count": 184,
   "metadata": {},
   "outputs": [
    {
     "ename": "AttributeError",
     "evalue": "'str' object has no attribute 'reverse_complement'",
     "output_type": "error",
     "traceback": [
      "\u001b[0;31m---------------------------------------------------------------------------\u001b[0m",
      "\u001b[0;31mAttributeError\u001b[0m                            Traceback (most recent call last)",
      "\u001b[0;32m<ipython-input-184-8f2e9595513f>\u001b[0m in \u001b[0;36m<module>\u001b[0;34m()\u001b[0m\n\u001b[0;32m----> 1\u001b[0;31m \u001b[0mamplicon2\u001b[0m\u001b[0;34m.\u001b[0m\u001b[0mfigure\u001b[0m\u001b[0;34m(\u001b[0m\u001b[0;34m)\u001b[0m\u001b[0;34m\u001b[0m\u001b[0m\n\u001b[0m",
      "\u001b[0;32m/opt/conda/lib/python3.6/site-packages/pydna/amplicon.py\u001b[0m in \u001b[0;36mfigure\u001b[0;34m(self)\u001b[0m\n\u001b[1;32m    264\u001b[0m                         \u001b[0mrplength\u001b[0m \u001b[0;34m=\u001b[0m \u001b[0mlen\u001b[0m\u001b[0;34m(\u001b[0m\u001b[0mself\u001b[0m\u001b[0;34m.\u001b[0m\u001b[0mreverse_primer\u001b[0m\u001b[0;34m.\u001b[0m\u001b[0mseq\u001b[0m\u001b[0;34m)\u001b[0m\u001b[0;34m,\u001b[0m\u001b[0;34m\u001b[0m\u001b[0m\n\u001b[1;32m    265\u001b[0m                         \u001b[0mfaz\u001b[0m      \u001b[0;34m=\u001b[0m \u001b[0mself\u001b[0m\u001b[0;34m.\u001b[0m\u001b[0mforward_primer\u001b[0m\u001b[0;34m.\u001b[0m\u001b[0mfootprint\u001b[0m\u001b[0;34m,\u001b[0m\u001b[0;34m\u001b[0m\u001b[0m\n\u001b[0;32m--> 266\u001b[0;31m                         \u001b[0mraz\u001b[0m      \u001b[0;34m=\u001b[0m \u001b[0mself\u001b[0m\u001b[0;34m.\u001b[0m\u001b[0mreverse_primer\u001b[0m\u001b[0;34m.\u001b[0m\u001b[0mfootprint\u001b[0m\u001b[0;34m.\u001b[0m\u001b[0mreverse_complement\u001b[0m\u001b[0;34m(\u001b[0m\u001b[0;34m)\u001b[0m\u001b[0;34m,\u001b[0m\u001b[0;34m\u001b[0m\u001b[0m\n\u001b[0m\u001b[1;32m    267\u001b[0m                         \u001b[0mfzc\u001b[0m      \u001b[0;34m=\u001b[0m \u001b[0mself\u001b[0m\u001b[0;34m.\u001b[0m\u001b[0mforward_primer\u001b[0m\u001b[0;34m.\u001b[0m\u001b[0mfootprint\u001b[0m\u001b[0;34m.\u001b[0m\u001b[0mcomplement\u001b[0m\u001b[0;34m(\u001b[0m\u001b[0;34m)\u001b[0m\u001b[0;34m,\u001b[0m\u001b[0;34m\u001b[0m\u001b[0m\n\u001b[1;32m    268\u001b[0m                         \u001b[0mrzc\u001b[0m      \u001b[0;34m=\u001b[0m \u001b[0mself\u001b[0m\u001b[0;34m.\u001b[0m\u001b[0mreverse_primer\u001b[0m\u001b[0;34m.\u001b[0m\u001b[0mfootprint\u001b[0m\u001b[0;34m[\u001b[0m\u001b[0;34m:\u001b[0m\u001b[0;34m:\u001b[0m\u001b[0;34m-\u001b[0m\u001b[0;36m1\u001b[0m\u001b[0;34m]\u001b[0m\u001b[0;34m,\u001b[0m\u001b[0;34m\u001b[0m\u001b[0m\n",
      "\u001b[0;31mAttributeError\u001b[0m: 'str' object has no attribute 'reverse_complement'"
     ]
    }
   ],
   "source": [
    "amplicon2.figure()"
   ]
  },
  {
   "cell_type": "code",
   "execution_count": 186,
   "metadata": {},
   "outputs": [],
   "source": [
    "from pydna.amplicon import Amplicon"
   ]
  },
  {
   "cell_type": "code",
   "execution_count": 192,
   "metadata": {},
   "outputs": [],
   "source": [
    "amplicon3 = Amplicon(template, template=template, forward_primer=p1, reverse_primer=p2.reverse_complement)"
   ]
  },
  {
   "cell_type": "code",
   "execution_count": 193,
   "metadata": {},
   "outputs": [
    {
     "data": {
      "text/html": [
       "Amplicon(51)"
      ],
      "text/plain": [
       "Amplicon(51)"
      ]
     },
     "execution_count": 193,
     "metadata": {},
     "output_type": "execute_result"
    }
   ],
   "source": [
    "amplicon3"
   ]
  },
  {
   "cell_type": "code",
   "execution_count": null,
   "metadata": {},
   "outputs": [],
   "source": []
  }
 ],
 "metadata": {
  "anaconda-cloud": {},
  "kernelspec": {
   "display_name": "Python 3",
   "language": "python",
   "name": "python3"
  },
  "language_info": {
   "codemirror_mode": {
    "name": "ipython",
    "version": 3
   },
   "file_extension": ".py",
   "mimetype": "text/x-python",
   "name": "python",
   "nbconvert_exporter": "python",
   "pygments_lexer": "ipython3",
   "version": "3.6.3"
  }
 },
 "nbformat": 4,
 "nbformat_minor": 2
}
