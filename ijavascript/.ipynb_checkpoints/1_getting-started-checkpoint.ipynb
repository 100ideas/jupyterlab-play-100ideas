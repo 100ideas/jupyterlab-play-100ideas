{
 "cells": [
  {
   "cell_type": "markdown",
   "metadata": {},
   "source": [
    "## ijavascript\n",
    "https://github.com/n-riesco/ijavascript \n",
    "\n",
    "ijavascript ipynb custom outputs:\n",
    "http://n-riesco.github.io/ijavascript/doc/custom.ipynb.html"
   ]
  },
  {
   "cell_type": "code",
   "execution_count": 4,
   "metadata": {},
   "outputs": [
    {
     "data": {
      "text/plain": [
       "Person { name: 'Peter' }"
      ]
     },
     "execution_count": 4,
     "metadata": {},
     "output_type": "execute_result"
    }
   ],
   "source": [
    "function Person(name) {\n",
    "    this.name = name;\n",
    "}\n",
    "\n",
    "var peter = new Person(\"Peter\");\n",
    "\n",
    "peter;"
   ]
  },
  {
   "cell_type": "code",
   "execution_count": 11,
   "metadata": {},
   "outputs": [],
   "source": [
    "// object inspection\n",
    "// move cursor over variable name, press shift+tab"
   ]
  },
  {
   "cell_type": "code",
   "execution_count": 9,
   "metadata": {},
   "outputs": [
    {
     "data": {
      "image/svg+xml": [
       "<svg><rect width=80 height=80 style='fill: orange;'/></svg>"
      ]
     },
     "execution_count": 9,
     "metadata": {},
     "output_type": "execute_result"
    }
   ],
   "source": [
    "$$.svg(\"<svg><rect width=80 height=80 style='fill: orange;'/></svg>\");"
   ]
  },
  {
   "cell_type": "code",
   "execution_count": 27,
   "metadata": {},
   "outputs": [],
   "source": [
    "// import infer from 'json-schema-generator';\n",
    "var JSG = require('json-schema-generator');"
   ]
  },
  {
   "cell_type": "code",
   "execution_count": 18,
   "metadata": {},
   "outputs": [],
   "source": []
  },
  {
   "cell_type": "markdown",
   "metadata": {},
   "source": [
    "## hackernoon node-jupyter-datascience tutorial\n",
    "https://hackernoon.com/data-science-for-javascript-developers-2cc3fb1fbefcname"
   ]
  },
  {
   "cell_type": "code",
   "execution_count": 25,
   "metadata": {},
   "outputs": [],
   "source": [
    "// https://elshor.github.io/dstools/\n",
    "ds = require('dstools');\n",
    "train = ds.Collection().loadCSV('train.csv')"
   ]
  },
  {
   "cell_type": "code",
   "execution_count": 28,
   "metadata": {},
   "outputs": [
    {
     "data": {
      "text/html": [
       "<div style=\"overflow:scroll\">\n",
       "<style scoped>\n",
       "strong {\n",
       "\tfont-weight: bold;\n",
       "}\n",
       "\n",
       "em {\n",
       "\tfont-style: italic;\n",
       "}\n",
       "\n",
       "table {\n",
       "\tbackground: #f5f5f5;\n",
       "\tborder-collapse: separate;\n",
       "\tbox-shadow: inset 0 1px 0 #fff;\n",
       "\tfont-size: 12px;\n",
       "\tline-height: 24px;\n",
       "\tmargin: 30px auto;\n",
       "\ttext-align: left;\n",
       "\twidth: 800px;\n",
       "}\n",
       "\n",
       "th {\n",
       "\tbackground:  linear-gradient(#777, #444);\n",
       "\tborder-left: 1px solid #555;\n",
       "\tborder-right: 1px solid #777;\n",
       "\tborder-top: 1px solid #555;\n",
       "\tborder-bottom: 1px solid #333;\n",
       "\tbox-shadow: inset 0 1px 0 #999;\n",
       "\tcolor: #fff;\n",
       "  font-weight: bold;\n",
       "\tpadding: 10px 15px;\n",
       "\tposition: relative;\n",
       "\ttext-shadow: 0 1px 0 #000;\n",
       "}\n",
       "th.header-field{\n",
       "\ttext-align: left;\n",
       "}\n",
       "th:after {\n",
       "\tbackground: linear-gradient(rgba(255,255,255,0), rgba(255,255,255,.08));\n",
       "\tcontent: '';\n",
       "\tdisplay: block;\n",
       "\theight: 25%;\n",
       "\tleft: 0;\n",
       "\tmargin: 1px 0 0 0;\n",
       "\tposition: absolute;\n",
       "\ttop: 25%;\n",
       "\twidth: 100%;\n",
       "}\n",
       "\n",
       "th:first-child {\n",
       "\tborder-left: 1px solid #777;\n",
       "\tbox-shadow: inset 1px 1px 0 #999;\n",
       "}\n",
       "\n",
       "th:last-child {\n",
       "\tbox-shadow: inset -1px 1px 0 #999;\n",
       "}\n",
       "\n",
       "td.table-cell {\n",
       "\tborder-right: 1px solid #fff;\n",
       "\tborder-left: 1px solid #e8e8e8;\n",
       "\tborder-top: 1px solid #fff;\n",
       "\tborder-bottom: 1px solid #e8e8e8;\n",
       "\tpadding: 10px 15px;\n",
       "\tposition: relative;\n",
       "\ttransition: all 300ms;\n",
       "\ttext-align:left;\n",
       "}\n",
       "\n",
       "td.table-cell:first-child {\n",
       "\tbox-shadow: inset 1px 0 0 #fff;\n",
       "}\n",
       "\n",
       "td.table-cell:last-child {\n",
       "\tborder-right: 1px solid #e8e8e8;\n",
       "\tbox-shadow: inset -1px 0 0 #fff;\n",
       "}\n",
       "\n",
       "\n",
       "tr:last-of-type td {\n",
       "\tbox-shadow: inset 0 -1px 0 #fff;\n",
       "}\n",
       "\n",
       "tr:last-of-type td:first-child {\n",
       "\tbox-shadow: inset 1px -1px 0 #fff;\n",
       "}\n",
       "\n",
       "tr:last-of-type td:last-child {\n",
       "\tbox-shadow: inset -1px -1px 0 #fff;\n",
       "}\n",
       "th{\n",
       "\twidth:8em;\n",
       "}\n",
       "</style><table><caption>Table View</caption><thead class=\"theader\"><tr><th class=\"header-field\">Id</th><th class=\"header-field\">MSSubClass</th><th class=\"header-field\">MSZoning</th><th class=\"header-field\">LotFrontage</th><th class=\"header-field\">LotArea</th><th class=\"header-field\">Street</th><th class=\"header-field\">Alley</th><th class=\"header-field\">LotShape</th><th class=\"header-field\">LandContour</th><th class=\"header-field\">Utilities</th><th class=\"header-field\">LotConfig</th><th class=\"header-field\">LandSlope</th><th class=\"header-field\">Neighborhood</th><th class=\"header-field\">Condition1</th><th class=\"header-field\">Condition2</th><th class=\"header-field\">BldgType</th><th class=\"header-field\">HouseStyle</th><th class=\"header-field\">OverallQual</th><th class=\"header-field\">OverallCond</th><th class=\"header-field\">YearBuilt</th><th class=\"header-field\">YearRemodAdd</th><th class=\"header-field\">RoofStyle</th><th class=\"header-field\">RoofMatl</th><th class=\"header-field\">Exterior1st</th><th class=\"header-field\">Exterior2nd</th><th class=\"header-field\">MasVnrType</th><th class=\"header-field\">MasVnrArea</th><th class=\"header-field\">ExterQual</th><th class=\"header-field\">ExterCond</th><th class=\"header-field\">Foundation</th><th class=\"header-field\">BsmtQual</th><th class=\"header-field\">BsmtCond</th><th class=\"header-field\">BsmtExposure</th><th class=\"header-field\">BsmtFinType1</th><th class=\"header-field\">BsmtFinSF1</th><th class=\"header-field\">BsmtFinType2</th><th class=\"header-field\">BsmtFinSF2</th><th class=\"header-field\">BsmtUnfSF</th><th class=\"header-field\">TotalBsmtSF</th><th class=\"header-field\">Heating</th><th class=\"header-field\">HeatingQC</th><th class=\"header-field\">CentralAir</th><th class=\"header-field\">Electrical</th><th class=\"header-field\">1stFlrSF</th><th class=\"header-field\">2ndFlrSF</th><th class=\"header-field\">LowQualFinSF</th><th class=\"header-field\">GrLivArea</th><th class=\"header-field\">BsmtFullBath</th><th class=\"header-field\">BsmtHalfBath</th><th class=\"header-field\">FullBath</th><th class=\"header-field\">HalfBath</th><th class=\"header-field\">BedroomAbvGr</th><th class=\"header-field\">KitchenAbvGr</th><th class=\"header-field\">KitchenQual</th><th class=\"header-field\">TotRmsAbvGrd</th><th class=\"header-field\">Functional</th><th class=\"header-field\">Fireplaces</th><th class=\"header-field\">FireplaceQu</th><th class=\"header-field\">GarageType</th><th class=\"header-field\">GarageYrBlt</th><th class=\"header-field\">GarageFinish</th><th class=\"header-field\">GarageCars</th><th class=\"header-field\">GarageArea</th><th class=\"header-field\">GarageQual</th><th class=\"header-field\">GarageCond</th><th class=\"header-field\">PavedDrive</th><th class=\"header-field\">WoodDeckSF</th><th class=\"header-field\">OpenPorchSF</th><th class=\"header-field\">EnclosedPorch</th><th class=\"header-field\">3SsnPorch</th><th class=\"header-field\">ScreenPorch</th><th class=\"header-field\">PoolArea</th><th class=\"header-field\">PoolQC</th><th class=\"header-field\">Fence</th><th class=\"header-field\">MiscFeature</th><th class=\"header-field\">MiscVal</th><th class=\"header-field\">MoSold</th><th class=\"header-field\">YrSold</th><th class=\"header-field\">SaleType</th><th class=\"header-field\">SaleCondition</th><th class=\"header-field\">SalePrice</th></tr></thead><tbody><tr class=\"table-row\"><td class=\"table-cell\">1</td><td class=\"table-cell\">60</td><td class=\"table-cell\">RL</td><td class=\"table-cell\">65</td><td class=\"table-cell\">8450</td><td class=\"table-cell\">Pave</td><td class=\"table-cell\">NA</td><td class=\"table-cell\">Reg</td><td class=\"table-cell\">Lvl</td><td class=\"table-cell\">AllPub</td><td class=\"table-cell\">Inside</td><td class=\"table-cell\">Gtl</td><td class=\"table-cell\">CollgCr</td><td class=\"table-cell\">Norm</td><td class=\"table-cell\">Norm</td><td class=\"table-cell\">1Fam</td><td class=\"table-cell\">2Story</td><td class=\"table-cell\">7</td><td class=\"table-cell\">5</td><td class=\"table-cell\">2003</td><td class=\"table-cell\">2003</td><td class=\"table-cell\">Gable</td><td class=\"table-cell\">CompShg</td><td class=\"table-cell\">VinylSd</td><td class=\"table-cell\">VinylSd</td><td class=\"table-cell\">BrkFace</td><td class=\"table-cell\">196</td><td class=\"table-cell\">Gd</td><td class=\"table-cell\">TA</td><td class=\"table-cell\">PConc</td><td class=\"table-cell\">Gd</td><td class=\"table-cell\">TA</td><td class=\"table-cell\">No</td><td class=\"table-cell\">GLQ</td><td class=\"table-cell\">706</td><td class=\"table-cell\">Unf</td><td class=\"table-cell\">0</td><td class=\"table-cell\">150</td><td class=\"table-cell\">856</td><td class=\"table-cell\">GasA</td><td class=\"table-cell\">Ex</td><td class=\"table-cell\">Y</td><td class=\"table-cell\">SBrkr</td><td class=\"table-cell\">856</td><td class=\"table-cell\">854</td><td class=\"table-cell\">0</td><td class=\"table-cell\">1710</td><td class=\"table-cell\">1</td><td class=\"table-cell\">0</td><td class=\"table-cell\">2</td><td class=\"table-cell\">1</td><td class=\"table-cell\">3</td><td class=\"table-cell\">1</td><td class=\"table-cell\">Gd</td><td class=\"table-cell\">8</td><td class=\"table-cell\">Typ</td><td class=\"table-cell\">0</td><td class=\"table-cell\">NA</td><td class=\"table-cell\">Attchd</td><td class=\"table-cell\">2003</td><td class=\"table-cell\">RFn</td><td class=\"table-cell\">2</td><td class=\"table-cell\">548</td><td class=\"table-cell\">TA</td><td class=\"table-cell\">TA</td><td class=\"table-cell\">Y</td><td class=\"table-cell\">0</td><td class=\"table-cell\">61</td><td class=\"table-cell\">0</td><td class=\"table-cell\">0</td><td class=\"table-cell\">0</td><td class=\"table-cell\">0</td><td class=\"table-cell\">NA</td><td class=\"table-cell\">NA</td><td class=\"table-cell\">NA</td><td class=\"table-cell\">0</td><td class=\"table-cell\">2</td><td class=\"table-cell\">2008</td><td class=\"table-cell\">WD</td><td class=\"table-cell\">Normal</td><td class=\"table-cell\">208500</td></tr><tr class=\"table-row\"><td class=\"table-cell\">2</td><td class=\"table-cell\">20</td><td class=\"table-cell\">RL</td><td class=\"table-cell\">80</td><td class=\"table-cell\">9600</td><td class=\"table-cell\">Pave</td><td class=\"table-cell\">NA</td><td class=\"table-cell\">Reg</td><td class=\"table-cell\">Lvl</td><td class=\"table-cell\">AllPub</td><td class=\"table-cell\">FR2</td><td class=\"table-cell\">Gtl</td><td class=\"table-cell\">Veenker</td><td class=\"table-cell\">Feedr</td><td class=\"table-cell\">Norm</td><td class=\"table-cell\">1Fam</td><td class=\"table-cell\">1Story</td><td class=\"table-cell\">6</td><td class=\"table-cell\">8</td><td class=\"table-cell\">1976</td><td class=\"table-cell\">1976</td><td class=\"table-cell\">Gable</td><td class=\"table-cell\">CompShg</td><td class=\"table-cell\">MetalSd</td><td class=\"table-cell\">MetalSd</td><td class=\"table-cell\">None</td><td class=\"table-cell\">0</td><td class=\"table-cell\">TA</td><td class=\"table-cell\">TA</td><td class=\"table-cell\">CBlock</td><td class=\"table-cell\">Gd</td><td class=\"table-cell\">TA</td><td class=\"table-cell\">Gd</td><td class=\"table-cell\">ALQ</td><td class=\"table-cell\">978</td><td class=\"table-cell\">Unf</td><td class=\"table-cell\">0</td><td class=\"table-cell\">284</td><td class=\"table-cell\">1262</td><td class=\"table-cell\">GasA</td><td class=\"table-cell\">Ex</td><td class=\"table-cell\">Y</td><td class=\"table-cell\">SBrkr</td><td class=\"table-cell\">1262</td><td class=\"table-cell\">0</td><td class=\"table-cell\">0</td><td class=\"table-cell\">1262</td><td class=\"table-cell\">0</td><td class=\"table-cell\">1</td><td class=\"table-cell\">2</td><td class=\"table-cell\">0</td><td class=\"table-cell\">3</td><td class=\"table-cell\">1</td><td class=\"table-cell\">TA</td><td class=\"table-cell\">6</td><td class=\"table-cell\">Typ</td><td class=\"table-cell\">1</td><td class=\"table-cell\">TA</td><td class=\"table-cell\">Attchd</td><td class=\"table-cell\">1976</td><td class=\"table-cell\">RFn</td><td class=\"table-cell\">2</td><td class=\"table-cell\">460</td><td class=\"table-cell\">TA</td><td class=\"table-cell\">TA</td><td class=\"table-cell\">Y</td><td class=\"table-cell\">298</td><td class=\"table-cell\">0</td><td class=\"table-cell\">0</td><td class=\"table-cell\">0</td><td class=\"table-cell\">0</td><td class=\"table-cell\">0</td><td class=\"table-cell\">NA</td><td class=\"table-cell\">NA</td><td class=\"table-cell\">NA</td><td class=\"table-cell\">0</td><td class=\"table-cell\">5</td><td class=\"table-cell\">2007</td><td class=\"table-cell\">WD</td><td class=\"table-cell\">Normal</td><td class=\"table-cell\">181500</td></tr><tr class=\"table-row\"><td class=\"table-cell\">3</td><td class=\"table-cell\">60</td><td class=\"table-cell\">RL</td><td class=\"table-cell\">68</td><td class=\"table-cell\">11250</td><td class=\"table-cell\">Pave</td><td class=\"table-cell\">NA</td><td class=\"table-cell\">IR1</td><td class=\"table-cell\">Lvl</td><td class=\"table-cell\">AllPub</td><td class=\"table-cell\">Inside</td><td class=\"table-cell\">Gtl</td><td class=\"table-cell\">CollgCr</td><td class=\"table-cell\">Norm</td><td class=\"table-cell\">Norm</td><td class=\"table-cell\">1Fam</td><td class=\"table-cell\">2Story</td><td class=\"table-cell\">7</td><td class=\"table-cell\">5</td><td class=\"table-cell\">2001</td><td class=\"table-cell\">2002</td><td class=\"table-cell\">Gable</td><td class=\"table-cell\">CompShg</td><td class=\"table-cell\">VinylSd</td><td class=\"table-cell\">VinylSd</td><td class=\"table-cell\">BrkFace</td><td class=\"table-cell\">162</td><td class=\"table-cell\">Gd</td><td class=\"table-cell\">TA</td><td class=\"table-cell\">PConc</td><td class=\"table-cell\">Gd</td><td class=\"table-cell\">TA</td><td class=\"table-cell\">Mn</td><td class=\"table-cell\">GLQ</td><td class=\"table-cell\">486</td><td class=\"table-cell\">Unf</td><td class=\"table-cell\">0</td><td class=\"table-cell\">434</td><td class=\"table-cell\">920</td><td class=\"table-cell\">GasA</td><td class=\"table-cell\">Ex</td><td class=\"table-cell\">Y</td><td class=\"table-cell\">SBrkr</td><td class=\"table-cell\">920</td><td class=\"table-cell\">866</td><td class=\"table-cell\">0</td><td class=\"table-cell\">1786</td><td class=\"table-cell\">1</td><td class=\"table-cell\">0</td><td class=\"table-cell\">2</td><td class=\"table-cell\">1</td><td class=\"table-cell\">3</td><td class=\"table-cell\">1</td><td class=\"table-cell\">Gd</td><td class=\"table-cell\">6</td><td class=\"table-cell\">Typ</td><td class=\"table-cell\">1</td><td class=\"table-cell\">TA</td><td class=\"table-cell\">Attchd</td><td class=\"table-cell\">2001</td><td class=\"table-cell\">RFn</td><td class=\"table-cell\">2</td><td class=\"table-cell\">608</td><td class=\"table-cell\">TA</td><td class=\"table-cell\">TA</td><td class=\"table-cell\">Y</td><td class=\"table-cell\">0</td><td class=\"table-cell\">42</td><td class=\"table-cell\">0</td><td class=\"table-cell\">0</td><td class=\"table-cell\">0</td><td class=\"table-cell\">0</td><td class=\"table-cell\">NA</td><td class=\"table-cell\">NA</td><td class=\"table-cell\">NA</td><td class=\"table-cell\">0</td><td class=\"table-cell\">9</td><td class=\"table-cell\">2008</td><td class=\"table-cell\">WD</td><td class=\"table-cell\">Normal</td><td class=\"table-cell\">223500</td></tr><tr class=\"table-row\"><td class=\"table-cell\">4</td><td class=\"table-cell\">70</td><td class=\"table-cell\">RL</td><td class=\"table-cell\">60</td><td class=\"table-cell\">9550</td><td class=\"table-cell\">Pave</td><td class=\"table-cell\">NA</td><td class=\"table-cell\">IR1</td><td class=\"table-cell\">Lvl</td><td class=\"table-cell\">AllPub</td><td class=\"table-cell\">Corner</td><td class=\"table-cell\">Gtl</td><td class=\"table-cell\">Crawfor</td><td class=\"table-cell\">Norm</td><td class=\"table-cell\">Norm</td><td class=\"table-cell\">1Fam</td><td class=\"table-cell\">2Story</td><td class=\"table-cell\">7</td><td class=\"table-cell\">5</td><td class=\"table-cell\">1915</td><td class=\"table-cell\">1970</td><td class=\"table-cell\">Gable</td><td class=\"table-cell\">CompShg</td><td class=\"table-cell\">Wd Sdng</td><td class=\"table-cell\">Wd Shng</td><td class=\"table-cell\">None</td><td class=\"table-cell\">0</td><td class=\"table-cell\">TA</td><td class=\"table-cell\">TA</td><td class=\"table-cell\">BrkTil</td><td class=\"table-cell\">TA</td><td class=\"table-cell\">Gd</td><td class=\"table-cell\">No</td><td class=\"table-cell\">ALQ</td><td class=\"table-cell\">216</td><td class=\"table-cell\">Unf</td><td class=\"table-cell\">0</td><td class=\"table-cell\">540</td><td class=\"table-cell\">756</td><td class=\"table-cell\">GasA</td><td class=\"table-cell\">Gd</td><td class=\"table-cell\">Y</td><td class=\"table-cell\">SBrkr</td><td class=\"table-cell\">961</td><td class=\"table-cell\">756</td><td class=\"table-cell\">0</td><td class=\"table-cell\">1717</td><td class=\"table-cell\">1</td><td class=\"table-cell\">0</td><td class=\"table-cell\">1</td><td class=\"table-cell\">0</td><td class=\"table-cell\">3</td><td class=\"table-cell\">1</td><td class=\"table-cell\">Gd</td><td class=\"table-cell\">7</td><td class=\"table-cell\">Typ</td><td class=\"table-cell\">1</td><td class=\"table-cell\">Gd</td><td class=\"table-cell\">Detchd</td><td class=\"table-cell\">1998</td><td class=\"table-cell\">Unf</td><td class=\"table-cell\">3</td><td class=\"table-cell\">642</td><td class=\"table-cell\">TA</td><td class=\"table-cell\">TA</td><td class=\"table-cell\">Y</td><td class=\"table-cell\">0</td><td class=\"table-cell\">35</td><td class=\"table-cell\">272</td><td class=\"table-cell\">0</td><td class=\"table-cell\">0</td><td class=\"table-cell\">0</td><td class=\"table-cell\">NA</td><td class=\"table-cell\">NA</td><td class=\"table-cell\">NA</td><td class=\"table-cell\">0</td><td class=\"table-cell\">2</td><td class=\"table-cell\">2006</td><td class=\"table-cell\">WD</td><td class=\"table-cell\">Abnorml</td><td class=\"table-cell\">140000</td></tr><tr class=\"table-row\"><td class=\"table-cell\">5</td><td class=\"table-cell\">60</td><td class=\"table-cell\">RL</td><td class=\"table-cell\">84</td><td class=\"table-cell\">14260</td><td class=\"table-cell\">Pave</td><td class=\"table-cell\">NA</td><td class=\"table-cell\">IR1</td><td class=\"table-cell\">Lvl</td><td class=\"table-cell\">AllPub</td><td class=\"table-cell\">FR2</td><td class=\"table-cell\">Gtl</td><td class=\"table-cell\">NoRidge</td><td class=\"table-cell\">Norm</td><td class=\"table-cell\">Norm</td><td class=\"table-cell\">1Fam</td><td class=\"table-cell\">2Story</td><td class=\"table-cell\">8</td><td class=\"table-cell\">5</td><td class=\"table-cell\">2000</td><td class=\"table-cell\">2000</td><td class=\"table-cell\">Gable</td><td class=\"table-cell\">CompShg</td><td class=\"table-cell\">VinylSd</td><td class=\"table-cell\">VinylSd</td><td class=\"table-cell\">BrkFace</td><td class=\"table-cell\">350</td><td class=\"table-cell\">Gd</td><td class=\"table-cell\">TA</td><td class=\"table-cell\">PConc</td><td class=\"table-cell\">Gd</td><td class=\"table-cell\">TA</td><td class=\"table-cell\">Av</td><td class=\"table-cell\">GLQ</td><td class=\"table-cell\">655</td><td class=\"table-cell\">Unf</td><td class=\"table-cell\">0</td><td class=\"table-cell\">490</td><td class=\"table-cell\">1145</td><td class=\"table-cell\">GasA</td><td class=\"table-cell\">Ex</td><td class=\"table-cell\">Y</td><td class=\"table-cell\">SBrkr</td><td class=\"table-cell\">1145</td><td class=\"table-cell\">1053</td><td class=\"table-cell\">0</td><td class=\"table-cell\">2198</td><td class=\"table-cell\">1</td><td class=\"table-cell\">0</td><td class=\"table-cell\">2</td><td class=\"table-cell\">1</td><td class=\"table-cell\">4</td><td class=\"table-cell\">1</td><td class=\"table-cell\">Gd</td><td class=\"table-cell\">9</td><td class=\"table-cell\">Typ</td><td class=\"table-cell\">1</td><td class=\"table-cell\">TA</td><td class=\"table-cell\">Attchd</td><td class=\"table-cell\">2000</td><td class=\"table-cell\">RFn</td><td class=\"table-cell\">3</td><td class=\"table-cell\">836</td><td class=\"table-cell\">TA</td><td class=\"table-cell\">TA</td><td class=\"table-cell\">Y</td><td class=\"table-cell\">192</td><td class=\"table-cell\">84</td><td class=\"table-cell\">0</td><td class=\"table-cell\">0</td><td class=\"table-cell\">0</td><td class=\"table-cell\">0</td><td class=\"table-cell\">NA</td><td class=\"table-cell\">NA</td><td class=\"table-cell\">NA</td><td class=\"table-cell\">0</td><td class=\"table-cell\">12</td><td class=\"table-cell\">2008</td><td class=\"table-cell\">WD</td><td class=\"table-cell\">Normal</td><td class=\"table-cell\">250000</td></tr></tbody></div></table>"
      ]
     },
     "execution_count": 28,
     "metadata": {},
     "output_type": "execute_result"
    }
   ],
   "source": [
    "train.head(5).show()"
   ]
  },
  {
   "cell_type": "markdown",
   "metadata": {},
   "source": [
    "Next, we want to better understand the house price feature of our data collection. A significant concept in statistics is distribution.\n",
    "\n",
    "> probability distribution is a mathematical function that, stated in simple terms, can be thought of as providing the probabilities of occurrence of different possible outcomes in an experiment. For instance, if the random variable X is used to denote the outcome of a coin toss (“the experiment”), then the probability distribution of X would take the value 0.5 for X = heads, and 0.5 for X = tails (assuming the coin is fair).\n",
    "\n",
    "First, we will use the dstools function describe to get some basic understanding of the HousePrice distribution. The describe function shows the most important distribution measures."
   ]
  },
  {
   "cell_type": "code",
   "execution_count": 29,
   "metadata": {},
   "outputs": [
    {
     "data": {
      "text/html": [
       "<div style=\"overflow:scroll\">\n",
       "<style scoped>\n",
       "strong {\n",
       "\tfont-weight: bold;\n",
       "}\n",
       "\n",
       "em {\n",
       "\tfont-style: italic;\n",
       "}\n",
       "\n",
       "table {\n",
       "\tbackground: #f5f5f5;\n",
       "\tborder-collapse: separate;\n",
       "\tbox-shadow: inset 0 1px 0 #fff;\n",
       "\tfont-size: 12px;\n",
       "\tline-height: 24px;\n",
       "\tmargin: 30px auto;\n",
       "\ttext-align: left;\n",
       "\twidth: 800px;\n",
       "}\n",
       "\n",
       "th {\n",
       "\tbackground:  linear-gradient(#777, #444);\n",
       "\tborder-left: 1px solid #555;\n",
       "\tborder-right: 1px solid #777;\n",
       "\tborder-top: 1px solid #555;\n",
       "\tborder-bottom: 1px solid #333;\n",
       "\tbox-shadow: inset 0 1px 0 #999;\n",
       "\tcolor: #fff;\n",
       "  font-weight: bold;\n",
       "\tpadding: 10px 15px;\n",
       "\tposition: relative;\n",
       "\ttext-shadow: 0 1px 0 #000;\n",
       "}\n",
       "th.header-field{\n",
       "\ttext-align: left;\n",
       "}\n",
       "th:after {\n",
       "\tbackground: linear-gradient(rgba(255,255,255,0), rgba(255,255,255,.08));\n",
       "\tcontent: '';\n",
       "\tdisplay: block;\n",
       "\theight: 25%;\n",
       "\tleft: 0;\n",
       "\tmargin: 1px 0 0 0;\n",
       "\tposition: absolute;\n",
       "\ttop: 25%;\n",
       "\twidth: 100%;\n",
       "}\n",
       "\n",
       "th:first-child {\n",
       "\tborder-left: 1px solid #777;\n",
       "\tbox-shadow: inset 1px 1px 0 #999;\n",
       "}\n",
       "\n",
       "th:last-child {\n",
       "\tbox-shadow: inset -1px 1px 0 #999;\n",
       "}\n",
       "\n",
       "td.table-cell {\n",
       "\tborder-right: 1px solid #fff;\n",
       "\tborder-left: 1px solid #e8e8e8;\n",
       "\tborder-top: 1px solid #fff;\n",
       "\tborder-bottom: 1px solid #e8e8e8;\n",
       "\tpadding: 10px 15px;\n",
       "\tposition: relative;\n",
       "\ttransition: all 300ms;\n",
       "\ttext-align:left;\n",
       "}\n",
       "\n",
       "td.table-cell:first-child {\n",
       "\tbox-shadow: inset 1px 0 0 #fff;\n",
       "}\n",
       "\n",
       "td.table-cell:last-child {\n",
       "\tborder-right: 1px solid #e8e8e8;\n",
       "\tbox-shadow: inset -1px 0 0 #fff;\n",
       "}\n",
       "\n",
       "\n",
       "tr:last-of-type td {\n",
       "\tbox-shadow: inset 0 -1px 0 #fff;\n",
       "}\n",
       "\n",
       "tr:last-of-type td:first-child {\n",
       "\tbox-shadow: inset 1px -1px 0 #fff;\n",
       "}\n",
       "\n",
       "tr:last-of-type td:last-child {\n",
       "\tbox-shadow: inset -1px -1px 0 #fff;\n",
       "}\n",
       "th{\n",
       "\twidth:8em;\n",
       "}\n",
       "</style><table><caption>Table View</caption><thead class=\"theader\"><tr><th class=\"header-field\">measure</th><th class=\"header-field\">value</th></tr></thead><tbody><tr class=\"table-row\"><td class=\"table-cell\">column</td><td class=\"table-cell\">SalePrice</td></tr><tr class=\"table-row\"><td class=\"table-cell\">count</td><td class=\"table-cell\">1460</td></tr><tr class=\"table-row\"><td class=\"table-cell\">mean</td><td class=\"table-cell\">180921.19589041095</td></tr><tr class=\"table-row\"><td class=\"table-cell\">std</td><td class=\"table-cell\">79415.29188606754</td></tr><tr class=\"table-row\"><td class=\"table-cell\">min</td><td class=\"table-cell\">34900</td></tr><tr class=\"table-row\"><td class=\"table-cell\">25%</td><td class=\"table-cell\">129900</td></tr><tr class=\"table-row\"><td class=\"table-cell\">50%</td><td class=\"table-cell\">163000</td></tr><tr class=\"table-row\"><td class=\"table-cell\">75%</td><td class=\"table-cell\">214000</td></tr><tr class=\"table-row\"><td class=\"table-cell\">max</td><td class=\"table-cell\">755000</td></tr></tbody></div></table>"
      ]
     },
     "execution_count": 29,
     "metadata": {},
     "output_type": "execute_result"
    }
   ],
   "source": [
    "train.describe('SalePrice').show()"
   ]
  },
  {
   "cell_type": "markdown",
   "metadata": {},
   "source": [
    "For data visualization, we use the excellent `plotly` Javascript library wrapped in the dstools package. Showing a visualization of the data is done by chaining the `plotly` function to the data wrapper. You can find documentation for using plotly here. When `using` plotly with dstools, the `plotly` function creates the HTML visualization. You need to chain it with the `show` function to display the plot. The `plotly` function replaces `x` and `y` properties with the column data (this our case, the column ‘SalePrice’). If the value of `x` is `this`, its value is set to the contained data itself. This is useful when wrapping vectors rather than datasets\n",
    "\n",
    "may need to get `plotly-notebook-js` https://github.com/plotly/plotly-notebook-js"
   ]
  },
  {
   "cell_type": "code",
   "execution_count": 63,
   "metadata": {},
   "outputs": [
    {
     "data": {
      "text/plain": [
       "'<div class=\\'plotly-plot\\'><div id=\\'notebook-plot-1521632565187\\'></div><script>function plot(){Plotly.plot(\\'notebook-plot-1521632565187\\',[{\"x\":[1,2,3],\"y\":[3,4,5]}],{\"title\":\"Plotly in Jupyter!\"});}if(window.Plotly){plot();}else if(!window.require){var head = document.head || document.getElementsByTagName(\\'head\\')[0];var s = document.createElement(\\'script\\');s.src = \\'https://cdn.plot.ly/plotly-latest.min.js\\';s.type = \\'text/javascript\\';s.async = false;s.onreadystatechange = s.onload = plot;head.appendChild(s);}else{require([\\'/notebooks/node_modules/plotly-notebook-js/build/plotly.min.js\\'], function(Plotly){window.Plotly = Plotly;plot();});}</script></div>'"
      ]
     },
     "execution_count": 63,
     "metadata": {},
     "output_type": "execute_result"
    }
   ],
   "source": [
    "var Plot = require('plotly-notebook-js');\n",
    "var myPlot = Plot.createPlot([{ x: [1,2,3], y: [3,4,5] }], { title: 'Plotly in Jupyter!' });\n",
    "_toHTML = myPlot.render();"
   ]
  },
  {
   "cell_type": "code",
   "execution_count": 64,
   "metadata": {},
   "outputs": [
    {
     "data": {
      "text/html": [
       "<div class='plotly-plot'><div id='notebook-plot-1521632565187'></div><script>function plot(){Plotly.plot('notebook-plot-1521632565187',[{\"x\":[1,2,3],\"y\":[3,4,5]}],{\"title\":\"Plotly in Jupyter!\"});}if(window.Plotly){plot();}else if(!window.require){var head = document.head || document.getElementsByTagName('head')[0];var s = document.createElement('script');s.src = 'https://cdn.plot.ly/plotly-latest.min.js';s.type = 'text/javascript';s.async = false;s.onreadystatechange = s.onload = plot;head.appendChild(s);}else{require(['/notebooks/node_modules/plotly-notebook-js/build/plotly.min.js'], function(Plotly){window.Plotly = Plotly;plot();});}</script></div>"
      ]
     },
     "execution_count": 64,
     "metadata": {},
     "output_type": "execute_result"
    }
   ],
   "source": [
    "// not working... :(\n",
    "$$html$$ = _toHTML"
   ]
  },
  {
   "cell_type": "code",
   "execution_count": 65,
   "metadata": {},
   "outputs": [
    {
     "data": {
      "text/html": [
       "<div class='plotly-plot'><div id='notebook-plot-1521632565187'></div><script>function plot(){Plotly.plot('notebook-plot-1521632565187',[{\"x\":[1,2,3],\"y\":[3,4,5]}],{\"title\":\"Plotly in Jupyter!\"});}if(window.Plotly){plot();}else if(!window.require){var head = document.head || document.getElementsByTagName('head')[0];var s = document.createElement('script');s.src = 'https://cdn.plot.ly/plotly-latest.min.js';s.type = 'text/javascript';s.async = false;s.onreadystatechange = s.onload = plot;head.appendChild(s);}else{require(['/notebooks/node_modules/plotly-notebook-js/build/plotly.min.js'], function(Plotly){window.Plotly = Plotly;plot();});}</script></div>"
      ]
     },
     "execution_count": 65,
     "metadata": {},
     "output_type": "execute_result"
    }
   ],
   "source": [
    "$$.html(_toHTML)"
   ]
  },
  {
   "cell_type": "code",
   "execution_count": 67,
   "metadata": {},
   "outputs": [
    {
     "data": {
      "application/vnd.plotly.v1+json": {
       "data": [
        {
         "y": [
          10,
          30,
          20
         ]
        }
       ],
       "layout": {
        "title": "Plotly from IJavascript"
       }
      }
     },
     "execution_count": 67,
     "metadata": {},
     "output_type": "execute_result"
    }
   ],
   "source": [
    "var Plotly = require(\"ijavascript-plotly\");\n",
    "Plotly([{y: [10, 30, 20]}], {title: \"Plotly from IJavascript\"});"
   ]
  },
  {
   "cell_type": "markdown",
   "metadata": {},
   "source": [
    "In the case of JupyterLab, use plotly-extension from jupyter-renderers:\n",
    "\n",
    "```js\n",
    "from plotly.offline import iplot\n",
    "    \n",
    "trace = plotly.graph_objs.Heatmap(z=[[1, 20, 30],\n",
    "                      [20, 1, 60],\n",
    "                      [30, 60, 1]])\n",
    "fig = dict(data=[trace])\n",
    "iplot(fig)\n",
    "```\n",
    "For Jupyter Notebook, you can still use jupyterlab_plotly although eventually all of the renderers in jupyter-renderers will work in the classic notebook.\n",
    "\n",
    "https://github.com/n-riesco/ijavascript-plotly/issues/1#issuecomment-337786660\n",
    "\n",
    "---\n",
    "\n",
    "https://github.com/jupyterlab/jupyter-renderers/tree/master/packages/plotly-extension\n",
    "\n",
    "```sh\n",
    "jupyter labextension install @jupyterlab/plotly-extension\n",
    "```"
   ]
  },
  {
   "cell_type": "markdown",
   "metadata": {},
   "source": [
    "```python\n",
    "from plotly.offline import iplot\n",
    "\n",
    "trace = plotly.graph_objs.Heatmap(z=[[1, 20, 30],\n",
    "                      [20, 1, 60],\n",
    "                      [30, 60, 1]])\n",
    "fig = dict(data=[trace])\n",
    "iplot(fig)\n",
    "```"
   ]
  },
  {
   "cell_type": "code",
   "execution_count": 68,
   "metadata": {},
   "outputs": [
    {
     "data": {
      "text/html": [
       "\n",
       "\t<div class=\"plotly-plot\">\n",
       "\t\t<div id=\"notebook-plot-1521632578412\"></div>\n",
       "\t\t<script>\n",
       "\t\tfunction plot1521632578412(){\n",
       "\t\t\tPlotly.plot('notebook-plot-1521632578412',[{\"type\":\"histogram\",\"x\":[208500,181500,223500,140000,250000,143000,307000,200000,129900,118000,129500,345000,144000,279500,157000,132000,149000,90000,159000,139000,325300,139400,230000,129900,154000,256300,134800,306000,207500,68500,40000,149350,179900,165500,277500,309000,145000,153000,109000,82000,160000,170000,144000,130250,141000,319900,239686,249700,113000,127000,177000,114500,110000,385000,130000,180500,172500,196500,438780,124900,158000,101000,202500,140000,219500,317000,180000,226000,80000,225000,244000,129500,185000,144900,107400,91000,135750,127000,136500,110000,193500,153500,245000,126500,168500,260000,174000,164500,85000,123600,109900,98600,163500,133900,204750,185000,214000,94750,83000,128950,205000,178000,118964,198900,169500,250000,100000,115000,115000,190000,136900,180000,383970,217000,259500,176000,139000,155000,320000,163990,180000,100000,136000,153900,181000,84500,128000,87000,155000,150000,226000,244000,150750,220000,180000,174000,143000,171000,230000,231500,115000,260000,166000,204000,125000,130000,105000,222500,141000,115000,122000,372402,190000,235000,125000,79000,109500,269500,254900,320000,162500,412500,220000,103200,152000,127500,190000,325624,183500,228000,128500,215000,239000,163000,184000,243000,211000,172500,501837,100000,177000,200100,120000,200000,127000,475000,173000,135000,153337,286000,315000,184000,192000,130000,127000,148500,311872,235000,104000,274900,140000,171500,112000,149000,110000,180500,143900,141000,277000,145000,98000,186000,252678,156000,161750,134450,210000,107000,311500,167240,204900,200000,179900,97000,386250,112000,290000,106000,125000,192500,148000,403000,94500,128200,216500,89500,185500,194500,318000,113000,262500,110500,79000,120000,205000,241500,137000,140000,180000,277000,76500,235000,173000,158000,145000,230000,207500,220000,231500,97000,176000,276000,151000,130000,73000,175500,185000,179500,120500,148000,266000,241500,290000,139000,124500,205000,201000,141000,415298,192000,228500,185000,207500,244600,179200,164700,159000,88000,122000,153575,233230,135900,131000,235000,167000,142500,152000,239000,175000,158500,157000,267000,205000,149900,295000,305900,225000,89500,82500,360000,165600,132000,119900,375000,178000,188500,260000,270000,260000,187500,342643,354000,301000,126175,242000,87000,324000,145250,214500,78000,119000,139000,284000,207000,192000,228950,377426,214000,202500,155000,202900,82000,87500,266000,85000,140200,151500,157500,154000,437154,318061,190000,95000,105900,140000,177500,173000,134000,130000,280000,156000,145000,198500,118000,190000,147000,159000,165000,132000,162000,172400,134432,125000,123000,219500,61000,148000,340000,394432,179000,127000,187750,213500,76000,240000,192000,81000,125000,191000,426000,119000,215000,106500,100000,109000,129000,123000,169500,67000,241000,245500,164990,108000,258000,168000,150000,115000,177000,280000,339750,60000,145000,222000,115000,228000,181134,149500,239000,126000,142000,206300,215000,113000,315000,139000,135000,275000,109008,195400,175000,85400,79900,122500,181000,81000,212000,116000,119000,90350,110000,555000,118000,162900,172500,210000,127500,190000,199900,119500,120000,110000,280000,204000,210000,188000,175500,98000,256000,161000,110000,263435,155000,62383,188700,124000,178740,167000,146500,250000,187000,212000,190000,148000,440000,251000,132500,208900,380000,297000,89471,326000,374000,155000,164000,132500,147000,156000,175000,160000,86000,115000,133000,172785,155000,91300,34900,430000,184000,130000,120000,113000,226700,140000,289000,147000,124500,215000,208300,161000,124500,164900,202665,129900,134000,96500,402861,158000,265000,211000,234000,106250,150000,159000,184750,315750,176000,132000,446261,86000,200624,175000,128000,107500,39300,178000,107500,188000,111250,158000,272000,315000,248000,213250,133000,179665,229000,210000,129500,125000,263000,140000,112500,255500,108000,284000,113000,141000,108000,175000,234000,121500,170000,108000,185000,268000,128000,325000,214000,316600,135960,142600,120000,224500,170000,139000,118500,145000,164500,146000,131500,181900,253293,118500,325000,133000,369900,130000,137000,143000,79500,185900,451950,138000,140000,110000,319000,114504,194201,217500,151000,275000,141000,220000,151000,221000,205000,152000,225000,359100,118500,313000,148000,261500,147000,75500,137500,183200,105500,314813,305000,67000,240000,135000,168500,165150,160000,139900,153000,135000,168500,124000,209500,82500,139400,144000,200000,60000,93000,85000,264561,274000,226000,345000,152000,370878,143250,98300,155000,155000,84500,205950,108000,191000,135000,350000,88000,145500,149000,97500,167000,197900,402000,110000,137500,423000,230500,129000,193500,168000,137500,173500,103600,165000,257500,140000,148500,87000,109500,372500,128500,143000,159434,173000,285000,221000,207500,227875,148800,392000,194700,141000,755000,335000,108480,141500,176000,89000,123500,138500,196000,312500,140000,361919,140000,213000,55000,302000,254000,179540,109900,52000,102776,189000,129000,130500,165000,159500,157000,341000,128500,275000,143000,124500,135000,320000,120500,222000,194500,110000,103000,236500,187500,222500,131400,108000,163000,93500,239900,179000,190000,132000,142000,179000,175000,180000,299800,236000,265979,260400,98000,96500,162000,217000,275500,156000,172500,212000,158900,179400,290000,127500,100000,215200,337000,270000,264132,196500,160000,216837,538000,134900,102000,107000,114500,395000,162000,221500,142500,144000,135000,176000,175900,187100,165500,128000,161500,139000,233000,107900,187500,160200,146800,269790,225000,194500,171000,143500,110000,485000,175000,200000,109900,189000,582933,118000,227680,135500,223500,159950,106000,181000,144500,55993,157900,116000,224900,137000,271000,155000,224000,183000,93000,225000,139500,232600,385000,109500,189000,185000,147400,166000,151000,237000,167000,139950,128000,153500,100000,144000,130500,140000,157500,174900,141000,153900,171000,213000,133500,240000,187000,131500,215000,164000,158000,170000,127000,147000,174000,152000,250000,189950,131500,152000,132500,250580,148500,248900,129000,169000,236000,109500,200500,116000,133000,66500,303477,132250,350000,148000,136500,157000,187500,178000,118500,100000,328900,145000,135500,268000,149500,122900,172500,154500,165000,118858,140000,106500,142953,611657,135000,110000,153000,180000,240000,125500,128000,255000,250000,131000,174000,154300,143500,88000,145000,173733,75000,35311,135000,238000,176500,201000,145900,169990,193000,207500,175000,285000,176000,236500,222000,201000,117500,320000,190000,242000,79900,184900,253000,239799,244400,150900,214000,150000,143000,137500,124900,143000,270000,192500,197500,129000,119900,133900,172000,127500,145000,124000,132000,185000,155000,116500,272000,155000,239000,214900,178900,160000,135000,37900,140000,135000,173000,99500,182000,167500,165000,85500,199900,110000,139000,178400,336000,159895,255900,126000,125000,117000,395192,195000,197000,348000,168000,187000,173900,337500,121600,136500,185000,91000,206000,82000,86000,232000,136905,181000,149900,163500,88000,240000,102000,135000,100000,165000,85000,119200,227000,203000,187500,160000,213490,176000,194000,87000,191000,287000,112500,167500,293077,105000,118000,160000,197000,310000,230000,119750,84000,315500,287000,97000,80000,155000,173000,196000,262280,278000,139600,556581,145000,115000,84900,176485,200141,165000,144500,255000,180000,185850,248000,335000,220000,213500,81000,90000,110500,154000,328000,178000,167900,151400,135000,135000,154000,91500,159500,194000,219500,170000,138800,155900,126000,145000,133000,192000,160000,187500,147000,83500,252000,137500,197000,92900,160000,136500,146000,129000,176432,127000,170000,128000,157000,60000,119500,135000,159500,106000,325000,179900,274725,181000,280000,188000,205000,129900,134500,117000,318000,184100,130000,140000,133700,118400,212900,112000,118000,163900,115000,174000,259000,215000,140000,135000,93500,117500,239500,169000,102000,119000,94000,196000,144000,139000,197500,424870,80000,80000,149000,180000,174500,116900,143000,124000,149900,230000,120500,201800,218000,179900,230000,235128,185000,146000,224000,129000,108959,194000,233170,245350,173000,235000,625000,171000,163000,171900,200500,239000,285000,119500,115000,154900,93000,250000,392500,745000,120000,186700,104900,95000,262000,195000,189000,168000,174000,125000,165000,158000,176000,219210,144000,178000,148000,116050,197900,117000,213000,153500,271900,107000,200000,140000,290000,189000,164000,113000,145000,134500,125000,112000,229456,80500,91500,115000,134000,143000,137900,184000,145000,214000,147000,367294,127000,190000,132500,101800,142000,130000,138887,175500,195000,142500,265900,224900,248328,170000,465000,230000,178000,186500,169900,129500,119000,244000,171750,130000,294000,165400,127500,301500,99900,190000,151000,181000,128900,161500,180500,181000,183900,122000,378500,381000,144000,260000,185750,137000,177000,139000,137000,162000,197900,237000,68400,227000,180000,150500,139000,169000,132500,143000,190000,278000,281000,180500,119500,107500,162900,115000,138500,155000,140000,160000,154000,225000,177500,290000,232000,130000,325000,202500,138000,147000,179200,335000,203000,302000,333168,119000,206900,295493,208900,275000,111000,156500,72500,190000,82500,147000,55000,79000,130500,256000,176500,227000,132500,100000,125500,125000,167900,135000,52500,200000,128500,123000,155000,228500,177000,155835,108500,262500,283463,215000,122000,200000,171000,134900,410000,235000,170000,110000,149900,177500,315000,189000,260000,104900,156932,144152,216000,193000,127000,144000,232000,105000,165500,274300,466500,250000,239000,91000,117000,83000,167500,58500,237500,157000,112000,105000,125500,250000,136000,377500,131000,235000,124000,123000,163000,246578,281213,160000,137500,138000,137450,120000,193000,193879,282922,105000,275000,133000,112000,125500,215000,230000,140000,90000,257000,207000,175900,122500,340000,124000,223000,179900,127500,136500,274970,144000,142000,271000,140000,119000,182900,192140,143750,64500,186500,160000,174000,120500,394617,149700,197000,191000,149300,310000,121000,179600,129000,157900,240000,112000,92000,136000,287090,145000,84500,185000,175000,210000,266500,142125,147500]}], undefined);\n",
       "\t\t}if(window.Plotly){plot1521632578412();}else if(!window.require){\n",
       "\t\t\tvar head = document.head || document.getElementsByTagName('head')[0];\n",
       "\t\t\tvar s = document.createElement('script');\n",
       "\t\t\ts.src = 'https://cdn.plot.ly/plotly-latest.min.js';\n",
       "\t\t\ts.type = 'text/javascript';\n",
       "\t\t\ts.async = false;\n",
       "\t\t\ts.onreadystatechange = s.onload = plot1521632578412;\n",
       "\t\t\thead.appendChild(s);\n",
       "\t\t}else{\n",
       "\t\t\trequire(['https://cdn.plot.ly/plotly-latest.min.js'], function(Plotly){\n",
       "\t\t\t\twindow.Plotly = Plotly;\n",
       "\t\t\t\tplot1521632578412();\n",
       "\t\t\t});\n",
       "\t\t}\n",
       "\t\t</script>\n",
       "\t\t</div>\n",
       "\t"
      ]
     },
     "execution_count": 68,
     "metadata": {},
     "output_type": "execute_result"
    }
   ],
   "source": [
    "train.plotly([{type:'histogram',x:'SalePrice'}]).show();"
   ]
  },
  {
   "cell_type": "code",
   "execution_count": null,
   "metadata": {},
   "outputs": [],
   "source": []
  }
 ],
 "metadata": {
  "kernelspec": {
   "display_name": "Javascript (Node.js)",
   "language": "javascript",
   "name": "javascript"
  },
  "language_info": {
   "file_extension": ".js",
   "mimetype": "application/javascript",
   "name": "javascript",
   "version": "6.12.2"
  }
 },
 "nbformat": 4,
 "nbformat_minor": 2
}
