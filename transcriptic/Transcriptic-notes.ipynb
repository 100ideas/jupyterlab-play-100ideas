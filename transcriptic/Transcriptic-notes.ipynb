{
 "cells": [
  {
   "cell_type": "markdown",
   "metadata": {},
   "source": [
    "## Transcriptic: Getting Started With IPython\n",
    "https://developers.transcriptic.com/docs/getting-started-with-ipython\n",
    "https://github.com/transcriptic/transcriptic/blob/master/transcriptic/english.py\n",
    "\n",
    "https://github.com/transcriptic/transcriptic/blob/master/test/AP2En_test.py"
   ]
  },
  {
   "cell_type": "code",
   "execution_count": 2,
   "metadata": {},
   "outputs": [],
   "source": [
    "import transcriptic"
   ]
  },
  {
   "cell_type": "code",
   "execution_count": 3,
   "metadata": {},
   "outputs": [],
   "source": [
    "import transcriptic.jupyter as tj"
   ]
  },
  {
   "cell_type": "code",
   "execution_count": 7,
   "metadata": {},
   "outputs": [],
   "source": [
    "import pytest\n",
    "import unittest\n",
    "import json\n",
    "from transcriptic import english"
   ]
  },
  {
   "cell_type": "code",
   "execution_count": 10,
   "metadata": {},
   "outputs": [
    {
     "data": {
      "text/plain": [
       "{'instructions': [{'columns': [{'column': 0, 'volume': '50:microliter'},\n",
       "    {'column': 1, 'volume': '50:microliter'},\n",
       "    {'column': 2, 'volume': '50:microliter'},\n",
       "    {'column': 3, 'volume': '50:microliter'},\n",
       "    {'column': 4, 'volume': '50:microliter'},\n",
       "    {'column': 5, 'volume': '50:microliter'},\n",
       "    {'column': 6, 'volume': '50:microliter'},\n",
       "    {'column': 7, 'volume': '50:microliter'},\n",
       "    {'column': 8, 'volume': '50:microliter'},\n",
       "    {'column': 9, 'volume': '50:microliter'},\n",
       "    {'column': 10, 'volume': '50:microliter'},\n",
       "    {'column': 11, 'volume': '50:microliter'}],\n",
       "   'object': 'test_plate',\n",
       "   'op': 'dispense',\n",
       "   'reagent': 'lb-broth-noAB'},\n",
       "  {'groups': [{'transfer': [{'from': 'bacteria/0',\n",
       "       'to': 'test_plate/0',\n",
       "       'volume': '1.0:microliter'}]},\n",
       "    {'transfer': [{'from': 'bacteria/0',\n",
       "       'to': 'test_plate/1',\n",
       "       'volume': '3.0:microliter'}]},\n",
       "    {'transfer': [{'from': 'bacteria/0',\n",
       "       'to': 'test_plate/2',\n",
       "       'volume': '5.0:microliter'}]},\n",
       "    {'transfer': [{'from': 'bacteria/0',\n",
       "       'to': 'test_plate/3',\n",
       "       'volume': '7.0:microliter'}]},\n",
       "    {'transfer': [{'from': 'bacteria/0',\n",
       "       'to': 'test_plate/4',\n",
       "       'volume': '9.0:microliter'}]},\n",
       "    {'transfer': [{'from': 'bacteria/0',\n",
       "       'to': 'test_plate/5',\n",
       "       'volume': '11.0:microliter'}]},\n",
       "    {'transfer': [{'from': 'bacteria/0',\n",
       "       'to': 'test_plate/6',\n",
       "       'volume': '13.0:microliter'}]},\n",
       "    {'transfer': [{'from': 'bacteria/0',\n",
       "       'to': 'test_plate/7',\n",
       "       'volume': '15.0:microliter'}]},\n",
       "    {'transfer': [{'from': 'bacteria/0',\n",
       "       'to': 'test_plate/8',\n",
       "       'volume': '17.0:microliter'}]},\n",
       "    {'transfer': [{'from': 'bacteria/0',\n",
       "       'to': 'test_plate/9',\n",
       "       'volume': '19.0:microliter'}]}],\n",
       "   'op': 'pipette'}],\n",
       " 'refs': {'bacteria': {'discard': True, 'new': 'micro-1.5'},\n",
       "  'test_plate': {'new': '96-flat', 'store': {'where': 'cold_4'}}}}"
      ]
     },
     "execution_count": 10,
     "metadata": {},
     "output_type": "execute_result"
    }
   ],
   "source": [
    "with open('./test/resources/web_example.json') as data_file:\n",
    "            pjson = json.load(data_file)\n",
    "\n",
    "pjson"
   ]
  },
  {
   "cell_type": "code",
   "execution_count": 12,
   "metadata": {},
   "outputs": [
    {
     "name": "stdout",
     "output_type": "stream",
     "text": [
      "1. Dispense 50 microliters of lb-broth-noAB to the full plate of test_plate\n",
      "2. Transfer 1.0 microliter from bacteria/0 to test_plate/0 \n",
      "3. Transfer 3.0 microliters from bacteria/0 to test_plate/1 \n",
      "4. Transfer 5.0 microliters from bacteria/0 to test_plate/2 \n",
      "5. Transfer 7.0 microliters from bacteria/0 to test_plate/3 \n",
      "6. Transfer 9.0 microliters from bacteria/0 to test_plate/4 \n",
      "7. Transfer 11.0 microliters from bacteria/0 to test_plate/5 \n",
      "8. Transfer 13.0 microliters from bacteria/0 to test_plate/6 \n",
      "9. Transfer 15.0 microliters from bacteria/0 to test_plate/7 \n",
      "10. Transfer 17.0 microliters from bacteria/0 to test_plate/8 \n",
      "11. Transfer 19.0 microliters from bacteria/0 to test_plate/9 \n"
     ]
    },
    {
     "data": {
      "text/plain": [
       "<transcriptic.english.AutoprotocolParser at 0x7fbdb93a4dd8>"
      ]
     },
     "execution_count": 12,
     "metadata": {},
     "output_type": "execute_result"
    }
   ],
   "source": [
    "parser_instance = english.AutoprotocolParser(pjson)\n",
    "parser_instance"
   ]
  },
  {
   "cell_type": "code",
   "execution_count": 13,
   "metadata": {},
   "outputs": [
    {
     "name": "stdout",
     "output_type": "stream",
     "text": [
      "\n",
      "A suggested Job Tree based on container dependency: \n",
      "\n",
      "1\n",
      "2\n",
      "3\n",
      "4\n",
      "5\n",
      "6\n",
      "7\n",
      "8\n",
      "9\n",
      "10\n",
      "11\n"
     ]
    }
   ],
   "source": [
    "parser_instance.job_tree()"
   ]
  },
  {
   "cell_type": "code",
   "execution_count": 15,
   "metadata": {},
   "outputs": [
    {
     "data": {
      "text/plain": [
       "['Dispense 50 microliters of lb-broth-noAB to the full plate of test_plate',\n",
       " 'Transfer 1.0 microliter from bacteria/0 to test_plate/0 ',\n",
       " 'Transfer 3.0 microliters from bacteria/0 to test_plate/1 ',\n",
       " 'Transfer 5.0 microliters from bacteria/0 to test_plate/2 ',\n",
       " 'Transfer 7.0 microliters from bacteria/0 to test_plate/3 ',\n",
       " 'Transfer 9.0 microliters from bacteria/0 to test_plate/4 ',\n",
       " 'Transfer 11.0 microliters from bacteria/0 to test_plate/5 ',\n",
       " 'Transfer 13.0 microliters from bacteria/0 to test_plate/6 ',\n",
       " 'Transfer 15.0 microliters from bacteria/0 to test_plate/7 ',\n",
       " 'Transfer 17.0 microliters from bacteria/0 to test_plate/8 ',\n",
       " 'Transfer 19.0 microliters from bacteria/0 to test_plate/9 ']"
      ]
     },
     "execution_count": 15,
     "metadata": {},
     "output_type": "execute_result"
    }
   ],
   "source": [
    "parsed_output = parser_instance.parsed_output\n",
    "parsed_output"
   ]
  },
  {
   "cell_type": "code",
   "execution_count": 17,
   "metadata": {},
   "outputs": [
    {
     "data": {
      "text/plain": [
       "[['test_plate'],\n",
       " [\"['bacteria']\", \"['test_plate']\"],\n",
       " [\"['bacteria']\", \"['test_plate']\"],\n",
       " [\"['bacteria']\", \"['test_plate']\"],\n",
       " [\"['bacteria']\", \"['test_plate']\"],\n",
       " [\"['bacteria']\", \"['test_plate']\"],\n",
       " [\"['bacteria']\", \"['test_plate']\"],\n",
       " [\"['bacteria']\", \"['test_plate']\"],\n",
       " [\"['bacteria']\", \"['test_plate']\"],\n",
       " [\"['bacteria']\", \"['test_plate']\"],\n",
       " [\"['bacteria']\", \"['test_plate']\"]]"
      ]
     },
     "execution_count": 17,
     "metadata": {},
     "output_type": "execute_result"
    }
   ],
   "source": [
    "steps = parser_instance.object_list\n",
    "steps"
   ]
  },
  {
   "cell_type": "code",
   "execution_count": 18,
   "metadata": {},
   "outputs": [
    {
     "data": {
      "text/plain": [
       "[[1], [2], [3], [4], [5], [6], [7], [8], [9], [10], [11]]"
      ]
     },
     "execution_count": 18,
     "metadata": {},
     "output_type": "execute_result"
    }
   ],
   "source": [
    "forest = parser_instance.forest_list\n",
    "forest"
   ]
  },
  {
   "cell_type": "code",
   "execution_count": 20,
   "metadata": {},
   "outputs": [],
   "source": [
    "pjsonString = \"\"\"{\n",
    "  \"refs\": {\n",
    "    \"3-384-pcr\": {\n",
    "      \"new\": \"384-pcr\",\n",
    "      \"discard\": true\n",
    "    },\n",
    "    \"5-384-pcr\": {\n",
    "      \"new\": \"384-pcr\",\n",
    "      \"discard\": true\n",
    "    },\n",
    "    \"4-384-pcr\": {\n",
    "      \"new\": \"384-pcr\",\n",
    "      \"discard\": true\n",
    "    },\n",
    "    \"1-384-pcr\": {\n",
    "      \"new\": \"384-pcr\",\n",
    "      \"discard\": true\n",
    "    },\n",
    "    \"0-384-pcr\": {\n",
    "      \"new\": \"384-pcr\",\n",
    "      \"discard\": true\n",
    "    },\n",
    "    \"6-384-pcr\": {\n",
    "      \"new\": \"384-pcr\",\n",
    "      \"discard\": true\n",
    "    },\n",
    "    \"2-384-pcr\": {\n",
    "      \"new\": \"384-pcr\",\n",
    "      \"discard\": true\n",
    "    }\n",
    "  },\n",
    "  \"instructions\": [\n",
    "    {\n",
    "      \"groups\": [\n",
    "        {\n",
    "          \"transfer\": [\n",
    "            {\n",
    "              \"volume\": \"10.0:microliter\",\n",
    "              \"to\": \"3-384-pcr/383\",\n",
    "              \"from\": \"3-384-pcr/0\"\n",
    "            }\n",
    "          ],\n",
    "          \"x_tip_type\": \"filtered50\"\n",
    "        },\n",
    "        {\n",
    "          \"transfer\": [\n",
    "            {\n",
    "              \"volume\": \"10.0:microliter\",\n",
    "              \"to\": \"3-384-pcr/382\",\n",
    "              \"from\": \"3-384-pcr/1\"\n",
    "            }\n",
    "          ],\n",
    "          \"x_tip_type\": \"filtered50\"\n",
    "        },\n",
    "        {\n",
    "          \"transfer\": [\n",
    "            {\n",
    "              \"volume\": \"10.0:microliter\",\n",
    "              \"to\": \"5-384-pcr/383\",\n",
    "              \"from\": \"5-384-pcr/0\"\n",
    "            }\n",
    "          ],\n",
    "          \"x_tip_type\": \"filtered50\"\n",
    "        },\n",
    "        {\n",
    "          \"transfer\": [\n",
    "            {\n",
    "              \"volume\": \"10.0:microliter\",\n",
    "              \"to\": \"5-384-pcr/382\",\n",
    "              \"from\": \"5-384-pcr/1\"\n",
    "            }\n",
    "          ],\n",
    "          \"x_tip_type\": \"filtered50\"\n",
    "        },\n",
    "        {\n",
    "          \"transfer\": [\n",
    "            {\n",
    "              \"volume\": \"10.0:microliter\",\n",
    "              \"to\": \"4-384-pcr/383\",\n",
    "              \"from\": \"4-384-pcr/0\"\n",
    "            }\n",
    "          ],\n",
    "          \"x_tip_type\": \"filtered50\"\n",
    "        },\n",
    "        {\n",
    "          \"transfer\": [\n",
    "            {\n",
    "              \"volume\": \"10.0:microliter\",\n",
    "              \"to\": \"4-384-pcr/382\",\n",
    "              \"from\": \"4-384-pcr/1\"\n",
    "            }\n",
    "          ],\n",
    "          \"x_tip_type\": \"filtered50\"\n",
    "        },\n",
    "        {\n",
    "          \"transfer\": [\n",
    "            {\n",
    "              \"volume\": \"10.0:microliter\",\n",
    "              \"to\": \"1-384-pcr/383\",\n",
    "              \"from\": \"1-384-pcr/0\"\n",
    "            }\n",
    "          ],\n",
    "          \"x_tip_type\": \"filtered50\"\n",
    "        },\n",
    "        {\n",
    "          \"transfer\": [\n",
    "            {\n",
    "              \"volume\": \"10.0:microliter\",\n",
    "              \"to\": \"1-384-pcr/382\",\n",
    "              \"from\": \"1-384-pcr/1\"\n",
    "            }\n",
    "          ],\n",
    "          \"x_tip_type\": \"filtered50\"\n",
    "        },\n",
    "        {\n",
    "          \"transfer\": [\n",
    "            {\n",
    "              \"volume\": \"10.0:microliter\",\n",
    "              \"to\": \"0-384-pcr/383\",\n",
    "              \"from\": \"0-384-pcr/0\"\n",
    "            }\n",
    "          ],\n",
    "          \"x_tip_type\": \"filtered50\"\n",
    "        },\n",
    "        {\n",
    "          \"transfer\": [\n",
    "            {\n",
    "              \"volume\": \"10.0:microliter\",\n",
    "              \"to\": \"0-384-pcr/382\",\n",
    "              \"from\": \"0-384-pcr/1\"\n",
    "            }\n",
    "          ],\n",
    "          \"x_tip_type\": \"filtered50\"\n",
    "        },\n",
    "        {\n",
    "          \"transfer\": [\n",
    "            {\n",
    "              \"volume\": \"10.0:microliter\",\n",
    "              \"to\": \"6-384-pcr/383\",\n",
    "              \"from\": \"6-384-pcr/0\"\n",
    "            }\n",
    "          ],\n",
    "          \"x_tip_type\": \"filtered50\"\n",
    "        },\n",
    "        {\n",
    "          \"transfer\": [\n",
    "            {\n",
    "              \"volume\": \"10.0:microliter\",\n",
    "              \"to\": \"6-384-pcr/382\",\n",
    "              \"from\": \"6-384-pcr/1\"\n",
    "            }\n",
    "          ],\n",
    "          \"x_tip_type\": \"filtered50\"\n",
    "        },\n",
    "        {\n",
    "          \"transfer\": [\n",
    "            {\n",
    "              \"volume\": \"10.0:microliter\",\n",
    "              \"to\": \"2-384-pcr/383\",\n",
    "              \"from\": \"2-384-pcr/0\"\n",
    "            }\n",
    "          ],\n",
    "          \"x_tip_type\": \"filtered50\"\n",
    "        },\n",
    "        {\n",
    "          \"transfer\": [\n",
    "            {\n",
    "              \"volume\": \"10.0:microliter\",\n",
    "              \"to\": \"2-384-pcr/382\",\n",
    "              \"from\": \"2-384-pcr/1\"\n",
    "            }\n",
    "          ],\n",
    "          \"x_tip_type\": \"filtered50\"\n",
    "        }\n",
    "      ],\n",
    "      \"op\": \"pipette\"\n",
    "    }\n",
    "  ]\n",
    "}\n",
    "\"\"\""
   ]
  },
  {
   "cell_type": "code",
   "execution_count": 22,
   "metadata": {},
   "outputs": [
    {
     "name": "stdout",
     "output_type": "stream",
     "text": [
      "1. Transfer 10.0 microliters from 3-384-pcr/0 to 3-384-pcr/383 \n",
      "2. Transfer 10.0 microliters from 3-384-pcr/1 to 3-384-pcr/382 \n",
      "3. Transfer 10.0 microliters from 5-384-pcr/0 to 5-384-pcr/383 \n",
      "4. Transfer 10.0 microliters from 5-384-pcr/1 to 5-384-pcr/382 \n",
      "5. Transfer 10.0 microliters from 4-384-pcr/0 to 4-384-pcr/383 \n",
      "6. Transfer 10.0 microliters from 4-384-pcr/1 to 4-384-pcr/382 \n",
      "7. Transfer 10.0 microliters from 1-384-pcr/0 to 1-384-pcr/383 \n",
      "8. Transfer 10.0 microliters from 1-384-pcr/1 to 1-384-pcr/382 \n",
      "9. Transfer 10.0 microliters from 0-384-pcr/0 to 0-384-pcr/383 \n",
      "10. Transfer 10.0 microliters from 0-384-pcr/1 to 0-384-pcr/382 \n",
      "11. Transfer 10.0 microliters from 6-384-pcr/0 to 6-384-pcr/383 \n",
      "12. Transfer 10.0 microliters from 6-384-pcr/1 to 6-384-pcr/382 \n",
      "13. Transfer 10.0 microliters from 2-384-pcr/0 to 2-384-pcr/383 \n",
      "14. Transfer 10.0 microliters from 2-384-pcr/1 to 2-384-pcr/382 \n",
      "\n",
      "A suggested Job Tree based on container dependency: \n",
      "\n",
      "1\n",
      "+---2\n",
      "3\n",
      "+---4\n",
      "5\n",
      "+---6\n",
      "7\n",
      "+---8\n",
      "9\n",
      "+---10\n",
      "11\n",
      "+---12\n",
      "13\n",
      "+---14\n",
      "\n",
      "A suggested Job Tree based on container dependency: \n",
      "\n",
      "1\n",
      "+---2\n",
      "3\n",
      "+---4\n",
      "5\n",
      "+---6\n",
      "7\n",
      "+---8\n",
      "9\n",
      "+---10\n",
      "11\n",
      "+---12\n",
      "13\n",
      "+---14\n"
     ]
    },
    {
     "data": {
      "text/plain": [
       "[[1, [2]], [3, [4]], [5, [6]], [7, [8]], [9, [10]], [11, [12]], [13, [14]]]"
      ]
     },
     "execution_count": 22,
     "metadata": {},
     "output_type": "execute_result"
    }
   ],
   "source": [
    "pjson = json.loads(pjsonString)\n",
    "parser_instance = english.AutoprotocolParser(pjson)\n",
    "parser_instance.job_tree()\n",
    "\n",
    "parsed_output = parser_instance.parsed_output\n",
    "steps = parser_instance.object_list\n",
    "forest = parser_instance.forest_list\n",
    "\n",
    "pjson\n",
    "parser_instance\n",
    "parser_instance.job_tree()\n",
    "steps\n",
    "forest"
   ]
  },
  {
   "cell_type": "code",
   "execution_count": 23,
   "metadata": {},
   "outputs": [
    {
     "name": "stdout",
     "output_type": "stream",
     "text": [
      "1. Measure concentration of 2.0 microliters DNA source aliquots of test_plate2\n",
      "2. Measure mass of test_plate2\n",
      "3. Measure volume of 12 wells from test_plate\n",
      "4. Measure volume of 8 wells from test_plate2\n",
      "\n",
      "A suggested Job Tree based on container dependency: \n",
      "\n",
      "1\n",
      "+---2\n",
      "    +---4\n",
      "3\n",
      "\n",
      "A suggested Job Tree based on container dependency: \n",
      "\n",
      "1\n",
      "+---2\n",
      "    +---4\n",
      "3\n"
     ]
    },
    {
     "data": {
      "text/plain": [
       "[[1, [2, [4]]], [3]]"
      ]
     },
     "execution_count": 23,
     "metadata": {},
     "output_type": "execute_result"
    }
   ],
   "source": [
    "\"\"\"\n",
    "Desired Output:\n",
    "1. Measure concentration of 2.0 microliters DNA source aliquots\n",
    "2. Measure mass of test_plate2\n",
    "3. Measure volume of 12 wells from test_plate\n",
    "4. Measure volume of 8 wells from test_plate2\n",
    "\"\"\"\n",
    "\n",
    "with open('./test/resources/measure_suite.json') as data_file:\n",
    "    pjson = json.load(data_file)\n",
    "parser_instance = english.AutoprotocolParser(pjson)\n",
    "parser_instance.job_tree()\n",
    "\n",
    "parsed_output = parser_instance.parsed_output\n",
    "steps = parser_instance.object_list\n",
    "forest = parser_instance.forest_list\n",
    "\n",
    "pjson\n",
    "parser_instance\n",
    "parser_instance.job_tree()\n",
    "steps\n",
    "forest"
   ]
  },
  {
   "cell_type": "code",
   "execution_count": 24,
   "metadata": {},
   "outputs": [
    {
     "name": "stdout",
     "output_type": "stream",
     "text": [
      "1. Magnetically release pcr_0 beads for 30.0 seconds at an amplitude of 0\n",
      "2. Distribute from test/1 into wells test/7, test/8, test/9\n",
      "3. Distribute from test/2 into wells test/10\n",
      "4. Distribute from test/0 into wells test/1\n",
      "5. Magnetically incubate pcr_0 for 30.0 minutes with a tip position of 1.5\n",
      "\n",
      "A suggested Job Tree based on container dependency: \n",
      "\n",
      "1\n",
      "+---5\n",
      "2\n",
      "+---4\n",
      "3\n",
      "\n",
      "A suggested Job Tree based on container dependency: \n",
      "\n",
      "1\n",
      "+---5\n",
      "2\n",
      "+---4\n",
      "3\n"
     ]
    },
    {
     "data": {
      "text/plain": [
       "[[1, [2, [4]]], [3]]"
      ]
     },
     "execution_count": 24,
     "metadata": {},
     "output_type": "execute_result"
    }
   ],
   "source": [
    "\"\"\"\n",
    "Desired Output:\n",
    "1. Magnetically release pcr_0 beads for 30.0 seconds at an amplitude of 0\n",
    "2. Distribute from test/1 into wells test/7, test/8, test/9\n",
    "3. Distribute from test/2 into wells test/10\n",
    "4. Distribute from test/0 into wells test/1\n",
    "5. Magnetically incubate pcr_0 for 30.0 minutes with a tip position of 1.5\n",
    "\"\"\"\n",
    "\n",
    "with open('./test/resources/mag_incubate.json') as data_file:\n",
    "    pjson = json.load(data_file)\n",
    "parser_instance = english.AutoprotocolParser(pjson)\n",
    "parser_instance.job_tree()\n",
    "\n",
    "pjson\n",
    "parser_instance\n",
    "parser_instance.job_tree()\n",
    "steps\n",
    "forest"
   ]
  },
  {
   "cell_type": "code",
   "execution_count": 26,
   "metadata": {},
   "outputs": [
    {
     "name": "stdout",
     "output_type": "stream",
     "text": [
      "1. Perform gel purification on the 0.8% agarose gel with band range(s) 0-10\n",
      "2. Perform gel purification on the 0.8% agarose gel with band range(s) 0-10\n",
      "3. Perform gel purification on the 0.8% agarose gel with band range(s) 0-10\n",
      "\n",
      "A suggested Job Tree based on container dependency: \n",
      "\n",
      "1\n",
      "+---2\n",
      "    +---3\n",
      "\n",
      "A suggested Job Tree based on container dependency: \n",
      "\n",
      "1\n",
      "+---2\n",
      "    +---3\n"
     ]
    },
    {
     "data": {
      "text/plain": [
       "[[1, [2, [3]]]]"
      ]
     },
     "execution_count": 26,
     "metadata": {},
     "output_type": "execute_result"
    }
   ],
   "source": [
    "\"\"\"\n",
    "Desired Output:\n",
    "1. Perform gel purification on the 0.8% agarose gel with band range(s) 0-10\n",
    "2. Perform gel purification on the 0.8% agarose gel with band range(s) 0-10\n",
    "3. Perform gel purification on the 0.8% agarose gel with band range(s) 0-10\n",
    "\"\"\"\n",
    "\n",
    "with open('./test/resources/purify.json') as data_file:\n",
    "    pjson = json.load(data_file)\n",
    "parser_instance = english.AutoprotocolParser(pjson)\n",
    "parser_instance.job_tree()\n",
    "\n",
    "parsed_output = parser_instance.parsed_output\n",
    "steps = parser_instance.object_list\n",
    "forest = parser_instance.forest_list\n",
    "\n",
    "pjson\n",
    "parser_instance\n",
    "parser_instance.job_tree()\n",
    "steps\n",
    "forest"
   ]
  },
  {
   "cell_type": "code",
   "execution_count": 28,
   "metadata": {},
   "outputs": [
    {
     "name": "stdout",
     "output_type": "stream",
     "text": [
      "1. Illumina sequence wells test_plate6/0, test_plate6/1 with library size 34\n",
      "\n",
      "A suggested Job Tree based on container dependency: \n",
      "\n",
      "1\n",
      "\n",
      "A suggested Job Tree based on container dependency: \n",
      "\n",
      "1\n"
     ]
    },
    {
     "data": {
      "text/plain": [
       "[[1]]"
      ]
     },
     "execution_count": 28,
     "metadata": {},
     "output_type": "execute_result"
    }
   ],
   "source": [
    "\"\"\"\n",
    "Desired Output:\n",
    "1. Illumina sequence wells test_plate6/0, test_plate6/1 with library size 34\n",
    "\"\"\"\n",
    "\n",
    "with open('./test/resources/illumina.json') as data_file:\n",
    "    pjson = json.load(data_file)\n",
    "parser_instance = english.AutoprotocolParser(pjson)\n",
    "parser_instance.job_tree()\n",
    "\n",
    "parsed_output = parser_instance.parsed_output\n",
    "steps = parser_instance.object_list\n",
    "forest = parser_instance.forest_list\n",
    "\n",
    "pjson\n",
    "parser_instance\n",
    "parser_instance.job_tree()\n",
    "steps\n",
    "forest"
   ]
  },
  {
   "cell_type": "code",
   "execution_count": 29,
   "metadata": {},
   "outputs": [
    {
     "name": "stdout",
     "output_type": "stream",
     "text": [
      "1. Perform flow cytometry on test_plate/0 with the respective FSC and SSC channel parameters\n",
      "\n",
      "A suggested Job Tree based on container dependency: \n",
      "\n",
      "1\n",
      "\n",
      "A suggested Job Tree based on container dependency: \n",
      "\n",
      "1\n"
     ]
    },
    {
     "data": {
      "text/plain": [
       "[[1]]"
      ]
     },
     "execution_count": 29,
     "metadata": {},
     "output_type": "execute_result"
    }
   ],
   "source": [
    "\"\"\"\n",
    "Desired Output:\n",
    "1. Perform flow cytometry on well0 with the respective FSC and SSC channel parameters\n",
    "\"\"\"\n",
    "\n",
    "with open('./test/resources/flow.json') as data_file:\n",
    "    pjson = json.load(data_file)\n",
    "parser_instance = english.AutoprotocolParser(pjson)\n",
    "parser_instance.job_tree()\n",
    "\n",
    "parsed_output = parser_instance.parsed_output\n",
    "steps = parser_instance.object_list\n",
    "forest = parser_instance.forest_list\n",
    "\n",
    "pjson\n",
    "parser_instance\n",
    "parser_instance.job_tree()\n",
    "steps\n",
    "forest"
   ]
  },
  {
   "cell_type": "code",
   "execution_count": 31,
   "metadata": {},
   "outputs": [],
   "source": [
    "import json"
   ]
  },
  {
   "cell_type": "code",
   "execution_count": 35,
   "metadata": {},
   "outputs": [
    {
     "data": {
      "text/plain": [
       "'{\"instructions\": [{\"op\": \"dispense\", \"object\": \"test_plate\", \"columns\": [{\"column\": 0, \"volume\": \"50:microliter\"}, {\"column\": 1, \"volume\": \"50:microliter\"}, {\"column\": 2, \"volume\": \"50:microliter\"}, {\"column\": 3, \"volume\": \"50:microliter\"}, {\"column\": 4, \"volume\": \"50:microliter\"}, {\"column\": 5, \"volume\": \"50:microliter\"}, {\"column\": 6, \"volume\": \"50:microliter\"}, {\"column\": 7, \"volume\": \"50:microliter\"}, {\"column\": 8, \"volume\": \"50:microliter\"}, {\"column\": 9, \"volume\": \"50:microliter\"}, {\"column\": 10, \"volume\": \"50:microliter\"}, {\"column\": 11, \"volume\": \"50:microliter\"}], \"reagent\": \"lb-broth-noAB\", \"step_size\": \"5.0:microliter\"}, {\"op\": \"pipette\", \"groups\": [{\"transfer\": [{\"from\": \"bacteria/0\", \"to\": \"test_plate/0\", \"volume\": \"1.0:microliter\"}]}, {\"transfer\": [{\"from\": \"bacteria/0\", \"to\": \"test_plate/1\", \"volume\": \"3.0:microliter\"}]}, {\"transfer\": [{\"from\": \"bacteria/0\", \"to\": \"test_plate/2\", \"volume\": \"5.0:microliter\"}]}, {\"transfer\": [{\"from\": \"bacteria/0\", \"to\": \"test_plate/3\", \"volume\": \"7.0:microliter\"}]}, {\"transfer\": [{\"from\": \"bacteria/0\", \"to\": \"test_plate/4\", \"volume\": \"9.0:microliter\"}]}, {\"transfer\": [{\"from\": \"bacteria/0\", \"to\": \"test_plate/5\", \"volume\": \"11.0:microliter\"}]}, {\"transfer\": [{\"from\": \"bacteria/0\", \"to\": \"test_plate/6\", \"volume\": \"13.0:microliter\"}]}, {\"transfer\": [{\"from\": \"bacteria/0\", \"to\": \"test_plate/7\", \"volume\": \"15.0:microliter\"}]}, {\"transfer\": [{\"from\": \"bacteria/0\", \"to\": \"test_plate/8\", \"volume\": \"17.0:microliter\"}]}, {\"transfer\": [{\"from\": \"bacteria/0\", \"to\": \"test_plate/9\", \"volume\": \"19.0:microliter\"}]}]}], \"refs\": {\"bacteria\": {\"new\": \"micro-1.5\", \"discard\": true}, \"test_plate\": {\"new\": \"96-flat\", \"store\": {\"where\": \"cold_4\"}}}}'"
      ]
     },
     "execution_count": 35,
     "metadata": {},
     "output_type": "execute_result"
    }
   ],
   "source": [
    "from autoprotocol.protocol import Protocol\n",
    "\n",
    "p = Protocol()\n",
    "\n",
    "bacterial_sample = p.ref(\"bacteria\", None, \"micro-1.5\", discard=True)\n",
    "test_plate = p.ref(\"test_plate\", None, \"96-flat\", storage=\"cold_4\")\n",
    "\n",
    "p.dispense_full_plate(test_plate, \"lb-broth-noAB\", \"50:microliter\")\n",
    "w = 0\n",
    "amt = 1\n",
    "while amt < 20:\n",
    "  p.transfer(bacterial_sample.well(0), test_plate.well(w), \"%d:microliter\" % amt)\n",
    "  amt += 2\n",
    "  w +=1\n",
    "\n",
    "# json.dumps(p.as_dict(), indent=2)\n",
    "json.dumps(p.as_dict())"
   ]
  },
  {
   "cell_type": "code",
   "execution_count": null,
   "metadata": {},
   "outputs": [],
   "source": []
  }
 ],
 "metadata": {
  "kernelspec": {
   "display_name": "Python 3",
   "language": "python",
   "name": "python3"
  },
  "language_info": {
   "codemirror_mode": {
    "name": "ipython",
    "version": 3
   },
   "file_extension": ".py",
   "mimetype": "text/x-python",
   "name": "python",
   "nbconvert_exporter": "python",
   "pygments_lexer": "ipython3",
   "version": "3.6.3"
  }
 },
 "nbformat": 4,
 "nbformat_minor": 2
}
